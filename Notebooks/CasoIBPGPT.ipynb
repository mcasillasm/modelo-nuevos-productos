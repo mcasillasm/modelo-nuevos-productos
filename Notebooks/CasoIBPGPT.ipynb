{
 "cells": [
  {
   "cell_type": "code",
   "execution_count": 78,
   "id": "672099ee-9802-4ae6-911a-fb6fa0bacc66",
   "metadata": {},
   "outputs": [],
   "source": [
    "#Importamos librerias\n",
    "import pandas as pd\n",
    "import numpy as np\n",
    "import matplotlib.pyplot as plt\n",
    "%matplotlib inline\n",
    "import seaborn as sns\n",
    "from datetime import datetime\n",
    "from sklearn.preprocessing import MinMaxScaler\n",
    "from sklearn.preprocessing import StandardScaler\n",
    "from sklearn.cluster import KMeans\n",
    "from sklearn.decomposition import PCA\n",
    "from sklearn.model_selection import train_test_split\n",
    "from sklearn.ensemble import RandomForestClassifier\n",
    "from sklearn.metrics import classification_report, confusion_matrix\n",
    "from sklearn.preprocessing import LabelEncoder\n",
    "import os"
   ]
  },
  {
   "cell_type": "code",
   "execution_count": 79,
   "id": "c37ea057-cd2f-4f31-a6d6-25145b609eef",
   "metadata": {},
   "outputs": [
    {
     "data": {
      "text/html": [
       "<div>\n",
       "<style scoped>\n",
       "    .dataframe tbody tr th:only-of-type {\n",
       "        vertical-align: middle;\n",
       "    }\n",
       "\n",
       "    .dataframe tbody tr th {\n",
       "        vertical-align: top;\n",
       "    }\n",
       "\n",
       "    .dataframe thead th {\n",
       "        text-align: right;\n",
       "    }\n",
       "</style>\n",
       "<table border=\"1\" class=\"dataframe\">\n",
       "  <thead>\n",
       "    <tr style=\"text-align: right;\">\n",
       "      <th></th>\n",
       "      <th>ID</th>\n",
       "      <th>Producto</th>\n",
       "      <th>Responsable</th>\n",
       "      <th>Cliente</th>\n",
       "      <th>Fecha de inicio</th>\n",
       "      <th>Fecha de cierre</th>\n",
       "      <th>Estado</th>\n",
       "      <th>Categoria</th>\n",
       "      <th>Probabilidad</th>\n",
       "      <th>Nvo Desarrollo</th>\n",
       "      <th>Precio</th>\n",
       "      <th>Volumen</th>\n",
       "      <th>Venta</th>\n",
       "      <th>unidad de medida</th>\n",
       "      <th>Gross Margin</th>\n",
       "      <th>Canal</th>\n",
       "    </tr>\n",
       "  </thead>\n",
       "  <tbody>\n",
       "    <tr>\n",
       "      <th>0</th>\n",
       "      <td>Nvo 2652</td>\n",
       "      <td>Producto2652</td>\n",
       "      <td>Alex</td>\n",
       "      <td>Cliente82</td>\n",
       "      <td>2023-03-17</td>\n",
       "      <td>2023-05-31</td>\n",
       "      <td>Abierto</td>\n",
       "      <td>Categoria8</td>\n",
       "      <td>0 %</td>\n",
       "      <td>No</td>\n",
       "      <td>60.00</td>\n",
       "      <td>1000</td>\n",
       "      <td>60000.0</td>\n",
       "      <td>kg</td>\n",
       "      <td>45.00</td>\n",
       "      <td>Canal2</td>\n",
       "    </tr>\n",
       "    <tr>\n",
       "      <th>1</th>\n",
       "      <td>Nvo 2653</td>\n",
       "      <td>Producto2653</td>\n",
       "      <td>Daniel</td>\n",
       "      <td>Cliente110</td>\n",
       "      <td>2023-03-17</td>\n",
       "      <td>2023-09-30</td>\n",
       "      <td>Abierto</td>\n",
       "      <td>Categoria10</td>\n",
       "      <td>0 %</td>\n",
       "      <td>No</td>\n",
       "      <td>54.24</td>\n",
       "      <td>1000</td>\n",
       "      <td>54240.0</td>\n",
       "      <td>kg</td>\n",
       "      <td>40.68</td>\n",
       "      <td>Canal2</td>\n",
       "    </tr>\n",
       "    <tr>\n",
       "      <th>2</th>\n",
       "      <td>Nvo 2655</td>\n",
       "      <td>Producto2655</td>\n",
       "      <td>Daniel</td>\n",
       "      <td>Cliente49</td>\n",
       "      <td>2023-03-21</td>\n",
       "      <td>2023-06-19</td>\n",
       "      <td>Abierto</td>\n",
       "      <td>Categoria13</td>\n",
       "      <td>0 %</td>\n",
       "      <td>No</td>\n",
       "      <td>38.00</td>\n",
       "      <td>13000</td>\n",
       "      <td>494000.0</td>\n",
       "      <td>kg</td>\n",
       "      <td>28.50</td>\n",
       "      <td>Canal2</td>\n",
       "    </tr>\n",
       "    <tr>\n",
       "      <th>3</th>\n",
       "      <td>Nvo 2656</td>\n",
       "      <td>Producto2656</td>\n",
       "      <td>Daniel</td>\n",
       "      <td>Cliente10</td>\n",
       "      <td>2023-03-21</td>\n",
       "      <td>2023-06-19</td>\n",
       "      <td>Abierto</td>\n",
       "      <td>Categoria2</td>\n",
       "      <td>0 %</td>\n",
       "      <td>No</td>\n",
       "      <td>38.00</td>\n",
       "      <td>13000</td>\n",
       "      <td>494000.0</td>\n",
       "      <td>kg</td>\n",
       "      <td>28.50</td>\n",
       "      <td>Canal2</td>\n",
       "    </tr>\n",
       "    <tr>\n",
       "      <th>4</th>\n",
       "      <td>Nvo 2874</td>\n",
       "      <td>Producto2874</td>\n",
       "      <td>Lalo</td>\n",
       "      <td>Cliente111</td>\n",
       "      <td>2023-02-13</td>\n",
       "      <td>2023-05-14</td>\n",
       "      <td>Abierto</td>\n",
       "      <td>Categoria13</td>\n",
       "      <td>0 %</td>\n",
       "      <td>No</td>\n",
       "      <td>100.00</td>\n",
       "      <td>24000</td>\n",
       "      <td>2400000.0</td>\n",
       "      <td>kg</td>\n",
       "      <td>75.00</td>\n",
       "      <td>Canal2</td>\n",
       "    </tr>\n",
       "    <tr>\n",
       "      <th>...</th>\n",
       "      <td>...</td>\n",
       "      <td>...</td>\n",
       "      <td>...</td>\n",
       "      <td>...</td>\n",
       "      <td>...</td>\n",
       "      <td>...</td>\n",
       "      <td>...</td>\n",
       "      <td>...</td>\n",
       "      <td>...</td>\n",
       "      <td>...</td>\n",
       "      <td>...</td>\n",
       "      <td>...</td>\n",
       "      <td>...</td>\n",
       "      <td>...</td>\n",
       "      <td>...</td>\n",
       "      <td>...</td>\n",
       "    </tr>\n",
       "    <tr>\n",
       "      <th>65</th>\n",
       "      <td>Nvo 3289</td>\n",
       "      <td>Producto3289</td>\n",
       "      <td>Alex</td>\n",
       "      <td>Cliente91</td>\n",
       "      <td>2023-03-01</td>\n",
       "      <td>2023-05-30</td>\n",
       "      <td>Abierto</td>\n",
       "      <td>Categoria3</td>\n",
       "      <td>0 %</td>\n",
       "      <td>No</td>\n",
       "      <td>100.00</td>\n",
       "      <td>5000</td>\n",
       "      <td>500000.0</td>\n",
       "      <td>kg</td>\n",
       "      <td>75.00</td>\n",
       "      <td>Canal2</td>\n",
       "    </tr>\n",
       "    <tr>\n",
       "      <th>66</th>\n",
       "      <td>Nvo 3297</td>\n",
       "      <td>Producto3297</td>\n",
       "      <td>Uriel</td>\n",
       "      <td>Cliente113</td>\n",
       "      <td>2023-03-04</td>\n",
       "      <td>2023-06-02</td>\n",
       "      <td>Abierto</td>\n",
       "      <td>Categoria3</td>\n",
       "      <td>15 %</td>\n",
       "      <td>No</td>\n",
       "      <td>100.00</td>\n",
       "      <td>180000</td>\n",
       "      <td>18000000.0</td>\n",
       "      <td>kg</td>\n",
       "      <td>75.00</td>\n",
       "      <td>Canal2</td>\n",
       "    </tr>\n",
       "    <tr>\n",
       "      <th>67</th>\n",
       "      <td>Nvo 3298</td>\n",
       "      <td>Producto3298</td>\n",
       "      <td>Gerry</td>\n",
       "      <td>Cliente32</td>\n",
       "      <td>2023-03-21</td>\n",
       "      <td>2024-04-10</td>\n",
       "      <td>Abierto</td>\n",
       "      <td>Categoria7</td>\n",
       "      <td>10 %</td>\n",
       "      <td>No</td>\n",
       "      <td>40.00</td>\n",
       "      <td>500</td>\n",
       "      <td>20000.0</td>\n",
       "      <td>kg</td>\n",
       "      <td>30.00</td>\n",
       "      <td>Canal2</td>\n",
       "    </tr>\n",
       "    <tr>\n",
       "      <th>68</th>\n",
       "      <td>Nvo 3304</td>\n",
       "      <td>Producto3304</td>\n",
       "      <td>Alex</td>\n",
       "      <td>Cliente111</td>\n",
       "      <td>2023-02-21</td>\n",
       "      <td>2023-04-30</td>\n",
       "      <td>En proceso</td>\n",
       "      <td>Categoria4</td>\n",
       "      <td>0 %</td>\n",
       "      <td>No</td>\n",
       "      <td>26.00</td>\n",
       "      <td>600</td>\n",
       "      <td>15600.0</td>\n",
       "      <td>kg</td>\n",
       "      <td>19.50</td>\n",
       "      <td>Canal2</td>\n",
       "    </tr>\n",
       "    <tr>\n",
       "      <th>69</th>\n",
       "      <td>Nvo 3305</td>\n",
       "      <td>Producto3305</td>\n",
       "      <td>Alex</td>\n",
       "      <td>Cliente40</td>\n",
       "      <td>2023-02-21</td>\n",
       "      <td>2023-04-30</td>\n",
       "      <td>En proceso</td>\n",
       "      <td>Categoria13</td>\n",
       "      <td>0 %</td>\n",
       "      <td>No</td>\n",
       "      <td>40.00</td>\n",
       "      <td>600</td>\n",
       "      <td>24000.0</td>\n",
       "      <td>kg</td>\n",
       "      <td>30.00</td>\n",
       "      <td>Canal2</td>\n",
       "    </tr>\n",
       "  </tbody>\n",
       "</table>\n",
       "<p>70 rows × 16 columns</p>\n",
       "</div>"
      ],
      "text/plain": [
       "          ID      Producto Responsable     Cliente Fecha de inicio  \\\n",
       "0   Nvo 2652  Producto2652        Alex   Cliente82      2023-03-17   \n",
       "1   Nvo 2653  Producto2653      Daniel  Cliente110      2023-03-17   \n",
       "2   Nvo 2655  Producto2655      Daniel   Cliente49      2023-03-21   \n",
       "3   Nvo 2656  Producto2656      Daniel   Cliente10      2023-03-21   \n",
       "4   Nvo 2874  Producto2874        Lalo  Cliente111      2023-02-13   \n",
       "..       ...           ...         ...         ...             ...   \n",
       "65  Nvo 3289  Producto3289        Alex   Cliente91      2023-03-01   \n",
       "66  Nvo 3297  Producto3297       Uriel  Cliente113      2023-03-04   \n",
       "67  Nvo 3298  Producto3298       Gerry   Cliente32      2023-03-21   \n",
       "68  Nvo 3304  Producto3304        Alex  Cliente111      2023-02-21   \n",
       "69  Nvo 3305  Producto3305        Alex   Cliente40      2023-02-21   \n",
       "\n",
       "   Fecha de cierre      Estado    Categoria Probabilidad Nvo Desarrollo  \\\n",
       "0       2023-05-31     Abierto   Categoria8          0 %             No   \n",
       "1       2023-09-30     Abierto  Categoria10          0 %             No   \n",
       "2       2023-06-19     Abierto  Categoria13          0 %             No   \n",
       "3       2023-06-19     Abierto   Categoria2          0 %             No   \n",
       "4       2023-05-14     Abierto  Categoria13          0 %             No   \n",
       "..             ...         ...          ...          ...            ...   \n",
       "65      2023-05-30     Abierto   Categoria3          0 %             No   \n",
       "66      2023-06-02     Abierto   Categoria3         15 %             No   \n",
       "67      2024-04-10     Abierto   Categoria7         10 %             No   \n",
       "68      2023-04-30  En proceso   Categoria4          0 %             No   \n",
       "69      2023-04-30  En proceso  Categoria13          0 %             No   \n",
       "\n",
       "    Precio  Volumen       Venta unidad de medida  Gross Margin   Canal  \n",
       "0    60.00     1000     60000.0               kg         45.00  Canal2  \n",
       "1    54.24     1000     54240.0               kg         40.68  Canal2  \n",
       "2    38.00    13000    494000.0               kg         28.50  Canal2  \n",
       "3    38.00    13000    494000.0               kg         28.50  Canal2  \n",
       "4   100.00    24000   2400000.0               kg         75.00  Canal2  \n",
       "..     ...      ...         ...              ...           ...     ...  \n",
       "65  100.00     5000    500000.0               kg         75.00  Canal2  \n",
       "66  100.00   180000  18000000.0               kg         75.00  Canal2  \n",
       "67   40.00      500     20000.0               kg         30.00  Canal2  \n",
       "68   26.00      600     15600.0               kg         19.50  Canal2  \n",
       "69   40.00      600     24000.0               kg         30.00  Canal2  \n",
       "\n",
       "[70 rows x 16 columns]"
      ]
     },
     "execution_count": 79,
     "metadata": {},
     "output_type": "execute_result"
    }
   ],
   "source": [
    "#Carga del archivo\n",
    "df_nvo_prod=pd.read_excel(\"C:/Users/marib/CasoIBP/Nvosproductos.xlsx\")\n",
    "df_nvo_prod"
   ]
  },
  {
   "cell_type": "code",
   "execution_count": 80,
   "id": "f65f0425-faf1-47fc-8870-dcf5edbe8179",
   "metadata": {},
   "outputs": [],
   "source": [
    "#**Paso 1. Preprocesamiento del archivo**\n",
    "\n",
    "df_nvo_prod.columns = df_nvo_prod.columns.str.strip().str.replace(\" \", \"_\")\n",
    "df_nvo_prod['Fecha_de_inicio'] = pd.to_datetime(df_nvo_prod['Fecha_de_inicio'], dayfirst = True, errors='coerce')\n",
    "df_nvo_prod['Fecha_de_cierre'] = pd.to_datetime(df_nvo_prod['Fecha_de_cierre'], dayfirst=True, errors='coerce')\n",
    "df_nvo_prod['Probabilidad'] = df_nvo_prod['Probabilidad'].str.replace('%','').astype(float)/100\n",
    "df_nvo_prod['Nvo_Desarrollo'] = df_nvo_prod['Nvo_Desarrollo'].map({'Sí':True, 'No':False})\n",
    "df_nvo_prod['Gross_Margin'] = df_nvo_prod['Gross_Margin'].astype(float)\n",
    "df_nvo_prod['Precio']=df_nvo_prod['Precio'].astype(float)\n",
    "df_nvo_prod['Volumen']=df_nvo_prod['Volumen'].astype(float)\n",
    "df_nvo_prod['Venta']=df_nvo_prod['Venta'].astype(float)\n"
   ]
  },
  {
   "cell_type": "code",
   "execution_count": 81,
   "id": "4c08dfd1-19eb-4e6d-b1ac-21994144645b",
   "metadata": {},
   "outputs": [],
   "source": [
    "#Paso 2. Derivar variables\n",
    "df_nvo_prod['Margen_esperado'] = df_nvo_prod['Gross_Margin']*df_nvo_prod['Venta']\n",
    "df_nvo_prod['Valor_esperado'] = df_nvo_prod['Probabilidad']*df_nvo_prod['Venta']"
   ]
  },
  {
   "cell_type": "code",
   "execution_count": 82,
   "id": "f8b59946-ec2a-4669-9a3a-5dd4fcbd561b",
   "metadata": {},
   "outputs": [
    {
     "name": "stdout",
     "output_type": "stream",
     "text": [
      "<class 'pandas.core.frame.DataFrame'>\n",
      "RangeIndex: 70 entries, 0 to 69\n",
      "Data columns (total 18 columns):\n",
      " #   Column            Non-Null Count  Dtype         \n",
      "---  ------            --------------  -----         \n",
      " 0   ID                70 non-null     object        \n",
      " 1   Producto          70 non-null     object        \n",
      " 2   Responsable       70 non-null     object        \n",
      " 3   Cliente           70 non-null     object        \n",
      " 4   Fecha_de_inicio   70 non-null     datetime64[ns]\n",
      " 5   Fecha_de_cierre   70 non-null     datetime64[ns]\n",
      " 6   Estado            70 non-null     object        \n",
      " 7   Categoria         70 non-null     object        \n",
      " 8   Probabilidad      70 non-null     float64       \n",
      " 9   Nvo_Desarrollo    70 non-null     bool          \n",
      " 10  Precio            70 non-null     float64       \n",
      " 11  Volumen           70 non-null     float64       \n",
      " 12  Venta             70 non-null     float64       \n",
      " 13  unidad_de_medida  70 non-null     object        \n",
      " 14  Gross_Margin      70 non-null     float64       \n",
      " 15  Canal             70 non-null     object        \n",
      " 16  Margen_esperado   70 non-null     float64       \n",
      " 17  Valor_esperado    70 non-null     float64       \n",
      "dtypes: bool(1), datetime64[ns](2), float64(7), object(8)\n",
      "memory usage: 9.5+ KB\n",
      "None\n",
      "                     Fecha_de_inicio                Fecha_de_cierre  \\\n",
      "count                             70                             70   \n",
      "mean   2023-03-04 15:05:08.571428608  2023-06-21 01:22:17.142857216   \n",
      "min              2023-01-12 00:00:00            2023-02-28 00:00:00   \n",
      "25%              2023-02-13 00:00:00            2023-05-05 00:00:00   \n",
      "50%              2023-02-25 00:00:00            2023-06-01 12:00:00   \n",
      "75%              2023-03-15 00:00:00            2023-07-11 06:00:00   \n",
      "max              2023-10-26 00:00:00            2024-04-10 00:00:00   \n",
      "std                              NaN                            NaN   \n",
      "\n",
      "       Probabilidad      Precio       Volumen         Venta  Gross_Margin  \\\n",
      "count     70.000000   70.000000  7.000000e+01  7.000000e+01     70.000000   \n",
      "mean       0.427857   82.446429  9.624800e+04  1.480694e+06     61.834821   \n",
      "min        0.000000    2.230000  1.000000e+02  4.500000e+03      1.672500   \n",
      "25%        0.025000   38.000000  7.000000e+02  2.500000e+04     28.500000   \n",
      "50%        0.400000   50.800000  3.000000e+03  3.009000e+05     38.100000   \n",
      "75%        0.750000   98.750000  1.275000e+04  9.825000e+05     74.062500   \n",
      "max        1.000000  495.000000  5.000000e+06  1.800000e+07    371.250000   \n",
      "std        0.348874   80.517598  5.974045e+05  3.151417e+06     60.388199   \n",
      "\n",
      "       Margen_esperado  Valor_esperado  \n",
      "count     7.000000e+01    7.000000e+01  \n",
      "mean      7.121728e+07    6.707565e+05  \n",
      "min       8.437500e+04    0.000000e+00  \n",
      "25%       1.359375e+06    5.000000e+02  \n",
      "50%       1.275935e+07    2.600000e+04  \n",
      "75%       6.748128e+07    3.870000e+05  \n",
      "max       1.350000e+09    6.750000e+06  \n",
      "std       1.775005e+08    1.436619e+06  \n"
     ]
    }
   ],
   "source": [
    "#Paso 3. Revisión general\n",
    "\n",
    "print(df_nvo_prod.info())\n",
    "print(df_nvo_prod.describe())"
   ]
  },
  {
   "cell_type": "code",
   "execution_count": 83,
   "id": "6a5a19c0-30ab-4b69-9ac4-5b17641d215a",
   "metadata": {},
   "outputs": [
    {
     "data": {
      "image/png": "[encoded data removed]",
      "text/plain": [
       "<Figure size 1000x500 with 1 Axes>"
      ]
     },
     "metadata": {},
     "output_type": "display_data"
    }
   ],
   "source": [
    "#Paso 4. Producto por estado\n",
    "\n",
    "plt.figure(figsize=(10,5))\n",
    "sns.countplot(data=df_nvo_prod, x='Estado', order=df_nvo_prod['Estado'].value_counts().index)\n",
    "plt.title('Distribución por Estado del Producto')\n",
    "plt.xticks(rotation=45)\n",
    "plt.show()"
   ]
  },
  {
   "cell_type": "code",
   "execution_count": 84,
   "id": "f41de85f-461c-4959-a4ba-d8e96933dbc8",
   "metadata": {},
   "outputs": [
    {
     "data": {
      "text/html": [
       "<div>\n",
       "<style scoped>\n",
       "    .dataframe tbody tr th:only-of-type {\n",
       "        vertical-align: middle;\n",
       "    }\n",
       "\n",
       "    .dataframe tbody tr th {\n",
       "        vertical-align: top;\n",
       "    }\n",
       "\n",
       "    .dataframe thead th {\n",
       "        text-align: right;\n",
       "    }\n",
       "</style>\n",
       "<table border=\"1\" class=\"dataframe\">\n",
       "  <thead>\n",
       "    <tr style=\"text-align: right;\">\n",
       "      <th></th>\n",
       "      <th>Volumen</th>\n",
       "      <th>Margen_esperado</th>\n",
       "      <th>Valor_esperado</th>\n",
       "    </tr>\n",
       "    <tr>\n",
       "      <th>Categoria</th>\n",
       "      <th></th>\n",
       "      <th></th>\n",
       "      <th></th>\n",
       "    </tr>\n",
       "  </thead>\n",
       "  <tbody>\n",
       "    <tr>\n",
       "      <th>Categoria13</th>\n",
       "      <td>539100.0</td>\n",
       "      <td>7.560394e+08</td>\n",
       "      <td>11983950.0</td>\n",
       "    </tr>\n",
       "    <tr>\n",
       "      <th>Categoria11</th>\n",
       "      <td>5090360.0</td>\n",
       "      <td>2.520965e+08</td>\n",
       "      <td>8306268.0</td>\n",
       "    </tr>\n",
       "    <tr>\n",
       "      <th>Categoria8</th>\n",
       "      <td>195300.0</td>\n",
       "      <td>4.530608e+08</td>\n",
       "      <td>7591350.0</td>\n",
       "    </tr>\n",
       "    <tr>\n",
       "      <th>Categoria6</th>\n",
       "      <td>96400.0</td>\n",
       "      <td>4.892790e+08</td>\n",
       "      <td>5855160.0</td>\n",
       "    </tr>\n",
       "    <tr>\n",
       "      <th>Categoria10</th>\n",
       "      <td>146000.0</td>\n",
       "      <td>6.349474e+08</td>\n",
       "      <td>5547750.0</td>\n",
       "    </tr>\n",
       "    <tr>\n",
       "      <th>Categoria3</th>\n",
       "      <td>190100.0</td>\n",
       "      <td>1.397524e+09</td>\n",
       "      <td>2932200.0</td>\n",
       "    </tr>\n",
       "    <tr>\n",
       "      <th>Categoria14</th>\n",
       "      <td>17000.0</td>\n",
       "      <td>2.276310e+08</td>\n",
       "      <td>1304250.0</td>\n",
       "    </tr>\n",
       "    <tr>\n",
       "      <th>Categoria17</th>\n",
       "      <td>15300.0</td>\n",
       "      <td>1.183425e+08</td>\n",
       "      <td>974000.0</td>\n",
       "    </tr>\n",
       "    <tr>\n",
       "      <th>Categoria16</th>\n",
       "      <td>19400.0</td>\n",
       "      <td>6.735764e+07</td>\n",
       "      <td>951162.0</td>\n",
       "    </tr>\n",
       "    <tr>\n",
       "      <th>Categoria12</th>\n",
       "      <td>26000.0</td>\n",
       "      <td>9.614374e+07</td>\n",
       "      <td>885512.0</td>\n",
       "    </tr>\n",
       "    <tr>\n",
       "      <th>Categoria4</th>\n",
       "      <td>53800.0</td>\n",
       "      <td>1.580146e+08</td>\n",
       "      <td>437550.0</td>\n",
       "    </tr>\n",
       "    <tr>\n",
       "      <th>Categoria9</th>\n",
       "      <td>302100.0</td>\n",
       "      <td>2.921815e+08</td>\n",
       "      <td>89300.0</td>\n",
       "    </tr>\n",
       "    <tr>\n",
       "      <th>Categoria1</th>\n",
       "      <td>1000.0</td>\n",
       "      <td>4.800000e+06</td>\n",
       "      <td>80000.0</td>\n",
       "    </tr>\n",
       "    <tr>\n",
       "      <th>Categoria15</th>\n",
       "      <td>1500.0</td>\n",
       "      <td>1.406250e+06</td>\n",
       "      <td>12500.0</td>\n",
       "    </tr>\n",
       "    <tr>\n",
       "      <th>Categoria7</th>\n",
       "      <td>30500.0</td>\n",
       "      <td>2.222250e+07</td>\n",
       "      <td>2000.0</td>\n",
       "    </tr>\n",
       "    <tr>\n",
       "      <th>Categoria2</th>\n",
       "      <td>13500.0</td>\n",
       "      <td>1.416338e+07</td>\n",
       "      <td>0.0</td>\n",
       "    </tr>\n",
       "  </tbody>\n",
       "</table>\n",
       "</div>"
      ],
      "text/plain": [
       "               Volumen  Margen_esperado  Valor_esperado\n",
       "Categoria                                              \n",
       "Categoria13   539100.0     7.560394e+08      11983950.0\n",
       "Categoria11  5090360.0     2.520965e+08       8306268.0\n",
       "Categoria8    195300.0     4.530608e+08       7591350.0\n",
       "Categoria6     96400.0     4.892790e+08       5855160.0\n",
       "Categoria10   146000.0     6.349474e+08       5547750.0\n",
       "Categoria3    190100.0     1.397524e+09       2932200.0\n",
       "Categoria14    17000.0     2.276310e+08       1304250.0\n",
       "Categoria17    15300.0     1.183425e+08        974000.0\n",
       "Categoria16    19400.0     6.735764e+07        951162.0\n",
       "Categoria12    26000.0     9.614374e+07        885512.0\n",
       "Categoria4     53800.0     1.580146e+08        437550.0\n",
       "Categoria9    302100.0     2.921815e+08         89300.0\n",
       "Categoria1      1000.0     4.800000e+06         80000.0\n",
       "Categoria15     1500.0     1.406250e+06         12500.0\n",
       "Categoria7     30500.0     2.222250e+07          2000.0\n",
       "Categoria2     13500.0     1.416338e+07             0.0"
      ]
     },
     "execution_count": 84,
     "metadata": {},
     "output_type": "execute_result"
    }
   ],
   "source": [
    "#Paso 5. Volumen y margen por categoría\n",
    "df_margen = df_nvo_prod.groupby('Categoria').agg({\n",
    "    'Volumen':'sum',\n",
    "    'Margen_esperado':'sum',\n",
    "    'Valor_esperado':'sum'\n",
    "}).sort_values('Valor_esperado',ascending=False)\n",
    "\n",
    "df_margen\n"
   ]
  },
  {
   "cell_type": "code",
   "execution_count": 85,
   "id": "f24ba20b-4422-4454-8972-69aa4976187d",
   "metadata": {},
   "outputs": [
    {
     "data": {
      "text/html": [
       "<div>\n",
       "<style scoped>\n",
       "    .dataframe tbody tr th:only-of-type {\n",
       "        vertical-align: middle;\n",
       "    }\n",
       "\n",
       "    .dataframe tbody tr th {\n",
       "        vertical-align: top;\n",
       "    }\n",
       "\n",
       "    .dataframe thead th {\n",
       "        text-align: right;\n",
       "    }\n",
       "</style>\n",
       "<table border=\"1\" class=\"dataframe\">\n",
       "  <thead>\n",
       "    <tr style=\"text-align: right;\">\n",
       "      <th></th>\n",
       "      <th>Producto</th>\n",
       "      <th>Categoria</th>\n",
       "      <th>Score_Prioridad</th>\n",
       "      <th>Valor_esperado</th>\n",
       "      <th>Margen_esperado</th>\n",
       "      <th>Estado</th>\n",
       "    </tr>\n",
       "  </thead>\n",
       "  <tbody>\n",
       "    <tr>\n",
       "      <th>12</th>\n",
       "      <td>Producto2963</td>\n",
       "      <td>Categoria13</td>\n",
       "      <td>0.571484</td>\n",
       "      <td>1.000000</td>\n",
       "      <td>0.149947</td>\n",
       "      <td>Abierto</td>\n",
       "    </tr>\n",
       "    <tr>\n",
       "      <th>27</th>\n",
       "      <td>Producto3219</td>\n",
       "      <td>Categoria11</td>\n",
       "      <td>0.507734</td>\n",
       "      <td>0.660741</td>\n",
       "      <td>0.013752</td>\n",
       "      <td>Abierto</td>\n",
       "    </tr>\n",
       "    <tr>\n",
       "      <th>22</th>\n",
       "      <td>Producto3171</td>\n",
       "      <td>Categoria6</td>\n",
       "      <td>0.504860</td>\n",
       "      <td>0.802667</td>\n",
       "      <td>0.345106</td>\n",
       "      <td>Detenido</td>\n",
       "    </tr>\n",
       "    <tr>\n",
       "      <th>66</th>\n",
       "      <td>Producto3297</td>\n",
       "      <td>Categoria3</td>\n",
       "      <td>0.480397</td>\n",
       "      <td>0.400000</td>\n",
       "      <td>1.000000</td>\n",
       "      <td>Abierto</td>\n",
       "    </tr>\n",
       "    <tr>\n",
       "      <th>53</th>\n",
       "      <td>Producto3270</td>\n",
       "      <td>Categoria8</td>\n",
       "      <td>0.462528</td>\n",
       "      <td>0.677333</td>\n",
       "      <td>0.171991</td>\n",
       "      <td>En proceso</td>\n",
       "    </tr>\n",
       "    <tr>\n",
       "      <th>42</th>\n",
       "      <td>Producto3259</td>\n",
       "      <td>Categoria11</td>\n",
       "      <td>0.405126</td>\n",
       "      <td>0.541333</td>\n",
       "      <td>0.164784</td>\n",
       "      <td>En proceso</td>\n",
       "    </tr>\n",
       "    <tr>\n",
       "      <th>54</th>\n",
       "      <td>Producto3271</td>\n",
       "      <td>Categoria13</td>\n",
       "      <td>0.383141</td>\n",
       "      <td>0.508000</td>\n",
       "      <td>0.128978</td>\n",
       "      <td>En proceso</td>\n",
       "    </tr>\n",
       "    <tr>\n",
       "      <th>51</th>\n",
       "      <td>Producto3268</td>\n",
       "      <td>Categoria10</td>\n",
       "      <td>0.380510</td>\n",
       "      <td>0.503000</td>\n",
       "      <td>0.126450</td>\n",
       "      <td>En proceso</td>\n",
       "    </tr>\n",
       "    <tr>\n",
       "      <th>40</th>\n",
       "      <td>Producto3257</td>\n",
       "      <td>Categoria8</td>\n",
       "      <td>0.352566</td>\n",
       "      <td>0.433978</td>\n",
       "      <td>0.127969</td>\n",
       "      <td>En proceso</td>\n",
       "    </tr>\n",
       "    <tr>\n",
       "      <th>31</th>\n",
       "      <td>Producto3230</td>\n",
       "      <td>Categoria13</td>\n",
       "      <td>0.221009</td>\n",
       "      <td>0.160000</td>\n",
       "      <td>0.066608</td>\n",
       "      <td>Abierto</td>\n",
       "    </tr>\n",
       "  </tbody>\n",
       "</table>\n",
       "</div>"
      ],
      "text/plain": [
       "        Producto    Categoria  Score_Prioridad  Valor_esperado  \\\n",
       "12  Producto2963  Categoria13         0.571484        1.000000   \n",
       "27  Producto3219  Categoria11         0.507734        0.660741   \n",
       "22  Producto3171   Categoria6         0.504860        0.802667   \n",
       "66  Producto3297   Categoria3         0.480397        0.400000   \n",
       "53  Producto3270   Categoria8         0.462528        0.677333   \n",
       "42  Producto3259  Categoria11         0.405126        0.541333   \n",
       "54  Producto3271  Categoria13         0.383141        0.508000   \n",
       "51  Producto3268  Categoria10         0.380510        0.503000   \n",
       "40  Producto3257   Categoria8         0.352566        0.433978   \n",
       "31  Producto3230  Categoria13         0.221009        0.160000   \n",
       "\n",
       "    Margen_esperado      Estado  \n",
       "12         0.149947     Abierto  \n",
       "27         0.013752     Abierto  \n",
       "22         0.345106    Detenido  \n",
       "66         1.000000     Abierto  \n",
       "53         0.171991  En proceso  \n",
       "42         0.164784  En proceso  \n",
       "54         0.128978  En proceso  \n",
       "51         0.126450  En proceso  \n",
       "40         0.127969  En proceso  \n",
       "31         0.066608     Abierto  "
      ]
     },
     "execution_count": 85,
     "metadata": {},
     "output_type": "execute_result"
    }
   ],
   "source": [
    "#Normalización y score\n",
    "#Copia del dataset para analisis\n",
    "\n",
    "df_score = df_nvo_prod.copy()\n",
    "\n",
    "#Variables a normalizar\n",
    "vars_norm = ['Valor_esperado','Margen_esperado','Volumen', 'Probabilidad']\n",
    "scaler = MinMaxScaler()\n",
    "df_score[vars_norm] = scaler.fit_transform(df_score[vars_norm])\n",
    "\n",
    "#Estado ordinal\n",
    "\n",
    "estado_orden = {   \n",
    "    'Abierto': 0.5,\n",
    "    'Detenido': 0.2,\n",
    "    'En proceso': 0.7,\n",
    "    'Ganada': 1.0,\n",
    "    'Perdido': 0.0\n",
    "}\n",
    "\n",
    "\n",
    "df_score['Estado_score'] = df_score['Estado'].map(estado_orden)\n",
    "\n",
    "#Calculo score final\n",
    "df_score['Score_Prioridad'] = (\n",
    "    0.40 * df_score['Valor_esperado']+\n",
    "    0.25 * df_score['Margen_esperado']+\n",
    "    0.15 * df_score['Volumen']+\n",
    "    0.10 * df_score['Probabilidad']+\n",
    "    0.10 * df_score['Estado_score']\n",
    ")\n",
    "\n",
    "#Ordenamos por score\n",
    "\n",
    "df_score = df_score.sort_values('Score_Prioridad', ascending=False)\n",
    "\n",
    "#Mostrar los top 10\n",
    "df_score[['Producto','Categoria','Score_Prioridad','Valor_esperado','Margen_esperado','Estado']].head(10)\n",
    "    \n"
   ]
  },
  {
   "cell_type": "code",
   "execution_count": 86,
   "id": "47cac3e5-ee0b-42a1-96bd-f2bafb8c52bd",
   "metadata": {},
   "outputs": [
    {
     "data": {
      "application/vnd.plotly.v1+json": {
       "config": {
        "plotlyServerURL": "https://plot.ly"
       },
       "data": [
        {
         "alignmentgroup": "True",
         "customdata": [
          [
           1,
           0.14994687167947995,
           "Abierto"
          ],
          [
           0.508,
           0.12897756109756858,
           "En proceso"
          ],
          [
           0.16,
           0.06660832968727212,
           "Abierto"
          ]
         ],
         "hovertemplate": "Categoria=Categoria13<br>Producto=%{x}<br>Score_Prioridad=%{y}<br>Valor_esperado=%{customdata[0]}<br>Margen_esperado=%{customdata[1]}<br>Estado=%{customdata[2]}<extra></extra>",
         "legendgroup": "Categoria13",
         "marker": {
          "color": "#636efa",
          "pattern": {
           "shape": ""
          }
         },
         "name": "Categoria13",
         "offsetgroup": "Categoria13",
         "orientation": "v",
         "showlegend": true,
         "textposition": "auto",
         "type": "bar",
         "x": [
          "Producto2963",
          "Producto3271",
          "Producto3230"
         ],
         "xaxis": "x",
         "y": [
          0.571483897863469,
          0.383141444215471,
          0.22100908956196086
         ],
         "yaxis": "y"
        },
        {
         "alignmentgroup": "True",
         "customdata": [
          [
           0.6607407407407407,
           0.01375197060927419,
           "Abierto"
          ],
          [
           0.5413333333333333,
           0.16478379898743672,
           "En proceso"
          ]
         ],
         "hovertemplate": "Categoria=Categoria11<br>Producto=%{x}<br>Score_Prioridad=%{y}<br>Valor_esperado=%{customdata[0]}<br>Margen_esperado=%{customdata[1]}<br>Estado=%{customdata[2]}<extra></extra>",
         "legendgroup": "Categoria11",
         "marker": {
          "color": "#EF553B",
          "pattern": {
           "shape": ""
          }
         },
         "name": "Categoria11",
         "offsetgroup": "Categoria11",
         "orientation": "v",
         "showlegend": true,
         "textposition": "auto",
         "type": "bar",
         "x": [
          "Producto3219",
          "Producto3259"
         ],
         "xaxis": "x",
         "y": [
          0.5077342889486148,
          0.40512633102115136
         ],
         "yaxis": "y"
        },
        {
         "alignmentgroup": "True",
         "customdata": [
          [
           0.8026666666666666,
           0.3451057357751526,
           "Detenido"
          ]
         ],
         "hovertemplate": "Categoria=Categoria6<br>Producto=%{x}<br>Score_Prioridad=%{y}<br>Valor_esperado=%{customdata[0]}<br>Margen_esperado=%{customdata[1]}<br>Estado=%{customdata[2]}<extra></extra>",
         "legendgroup": "Categoria6",
         "marker": {
          "color": "#00cc96",
          "pattern": {
           "shape": ""
          }
         },
         "name": "Categoria6",
         "offsetgroup": "Categoria6",
         "orientation": "v",
         "showlegend": true,
         "textposition": "auto",
         "type": "bar",
         "x": [
          "Producto3171"
         ],
         "xaxis": "x",
         "y": [
          0.5048601509514616
         ],
         "yaxis": "y"
        },
        {
         "alignmentgroup": "True",
         "customdata": [
          [
           0.39999999999999997,
           0.9999999999999999,
           "Abierto"
          ],
          [
           0.03333333333333333,
           0.005562847677979874,
           "Ganada"
          ]
         ],
         "hovertemplate": "Categoria=Categoria3<br>Producto=%{x}<br>Score_Prioridad=%{y}<br>Valor_esperado=%{customdata[0]}<br>Margen_esperado=%{customdata[1]}<br>Estado=%{customdata[2]}<extra></extra>",
         "legendgroup": "Categoria3",
         "marker": {
          "color": "#ab63fa",
          "pattern": {
           "shape": ""
          }
         },
         "name": "Categoria3",
         "offsetgroup": "Categoria3",
         "orientation": "v",
         "showlegend": true,
         "textposition": "auto",
         "type": "bar",
         "x": [
          "Producto3297",
          "Producto3088"
         ],
         "xaxis": "x",
         "y": [
          0.48039710794215884,
          0.2148710481928871
         ],
         "yaxis": "y"
        },
        {
         "alignmentgroup": "True",
         "customdata": [
          [
           0.6773333333333333,
           0.17199091609892284,
           "En proceso"
          ],
          [
           0.4339777777777778,
           0.1279689425033509,
           "En proceso"
          ]
         ],
         "hovertemplate": "Categoria=Categoria8<br>Producto=%{x}<br>Score_Prioridad=%{y}<br>Valor_esperado=%{customdata[0]}<br>Margen_esperado=%{customdata[1]}<br>Estado=%{customdata[2]}<extra></extra>",
         "legendgroup": "Categoria8",
         "marker": {
          "color": "#FFA15A",
          "pattern": {
           "shape": ""
          }
         },
         "name": "Categoria8",
         "offsetgroup": "Categoria8",
         "orientation": "v",
         "showlegend": true,
         "textposition": "auto",
         "type": "bar",
         "x": [
          "Producto3270",
          "Producto3257"
         ],
         "xaxis": "x",
         "y": [
          0.4625281342995029,
          0.3525663863977421
         ],
         "yaxis": "y"
        },
        {
         "alignmentgroup": "True",
         "customdata": [
          [
           0.503,
           0.1264499031189449,
           "En proceso"
          ],
          [
           0.152,
           0.028819301206325393,
           "En proceso"
          ]
         ],
         "hovertemplate": "Categoria=Categoria10<br>Producto=%{x}<br>Score_Prioridad=%{y}<br>Valor_esperado=%{customdata[0]}<br>Margen_esperado=%{customdata[1]}<br>Estado=%{customdata[2]}<extra></extra>",
         "legendgroup": "Categoria10",
         "marker": {
          "color": "#19d3f3",
          "pattern": {
           "shape": ""
          }
         },
         "name": "Categoria10",
         "offsetgroup": "Categoria10",
         "orientation": "v",
         "showlegend": true,
         "textposition": "auto",
         "type": "bar",
         "x": [
          "Producto3268",
          "Producto3269"
         ],
         "xaxis": "x",
         "y": [
          0.3805095297208151,
          0.21408184684201215
         ],
         "yaxis": "y"
        },
        {
         "alignmentgroup": "True",
         "customdata": [
          [
           0.08966666666666666,
           0.12054670083546888,
           "En proceso"
          ]
         ],
         "hovertemplate": "Categoria=Categoria14<br>Producto=%{x}<br>Score_Prioridad=%{y}<br>Valor_esperado=%{customdata[0]}<br>Margen_esperado=%{customdata[1]}<br>Estado=%{customdata[2]}<extra></extra>",
         "legendgroup": "Categoria14",
         "marker": {
          "color": "#FF6692",
          "pattern": {
           "shape": ""
          }
         },
         "name": "Categoria14",
         "offsetgroup": "Categoria14",
         "orientation": "v",
         "showlegend": true,
         "textposition": "auto",
         "type": "bar",
         "x": [
          "Producto2949"
         ],
         "xaxis": "x",
         "y": [
          0.21109034361556872
         ],
         "yaxis": "y"
        },
        {
         "alignmentgroup": "True",
         "customdata": [
          [
           0.011851851851851851,
           0.0034932738851733785,
           "Ganada"
          ]
         ],
         "hovertemplate": "Categoria=Categoria1<br>Producto=%{x}<br>Score_Prioridad=%{y}<br>Valor_esperado=%{customdata[0]}<br>Margen_esperado=%{customdata[1]}<br>Estado=%{customdata[2]}<extra></extra>",
         "legendgroup": "Categoria1",
         "marker": {
          "color": "#B6E880",
          "pattern": {
           "shape": ""
          }
         },
         "name": "Categoria1",
         "offsetgroup": "Categoria1",
         "orientation": "v",
         "showlegend": true,
         "textposition": "auto",
         "type": "bar",
         "x": [
          "Producto3186"
         ],
         "xaxis": "x",
         "y": [
          0.20564105975204489
         ],
         "yaxis": "y"
        },
        {
         "alignmentgroup": "True",
         "customdata": [
          [
           0.0016758518518518518,
           0.00011523129084456667,
           "Ganada"
          ]
         ],
         "hovertemplate": "Categoria=Categoria16<br>Producto=%{x}<br>Score_Prioridad=%{y}<br>Valor_esperado=%{customdata[0]}<br>Margen_esperado=%{customdata[1]}<br>Estado=%{customdata[2]}<extra></extra>",
         "legendgroup": "Categoria16",
         "marker": {
          "color": "#FF97FF",
          "pattern": {
           "shape": ""
          }
         },
         "name": "Categoria16",
         "offsetgroup": "Categoria16",
         "orientation": "v",
         "showlegend": true,
         "textposition": "auto",
         "type": "bar",
         "x": [
          "Producto3288"
         ],
         "xaxis": "x",
         "y": [
          0.2007081487434555
         ],
         "yaxis": "y"
        }
       ],
       "layout": {
        "autosize": true,
        "barmode": "relative",
        "legend": {
         "title": {
          "text": "Categoria"
         },
         "tracegroupgap": 0
        },
        "template": {
         "data": {
          "bar": [
           {
            "error_x": {
             "color": "#2a3f5f"
            },
            "error_y": {
             "color": "#2a3f5f"
            },
            "marker": {
             "line": {
              "color": "#E5ECF6",
              "width": 0.5
             },
             "pattern": {
              "fillmode": "overlay",
              "size": 10,
              "solidity": 0.2
             }
            },
            "type": "bar"
           }
          ],
          "barpolar": [
           {
            "marker": {
             "line": {
              "color": "#E5ECF6",
              "width": 0.5
             },
             "pattern": {
              "fillmode": "overlay",
              "size": 10,
              "solidity": 0.2
             }
            },
            "type": "barpolar"
           }
          ],
          "carpet": [
           {
            "aaxis": {
             "endlinecolor": "#2a3f5f",
             "gridcolor": "white",
             "linecolor": "white",
             "minorgridcolor": "white",
             "startlinecolor": "#2a3f5f"
            },
            "baxis": {
             "endlinecolor": "#2a3f5f",
             "gridcolor": "white",
             "linecolor": "white",
             "minorgridcolor": "white",
             "startlinecolor": "#2a3f5f"
            },
            "type": "carpet"
           }
          ],
          "choropleth": [
           {
            "colorbar": {
             "outlinewidth": 0,
             "ticks": ""
            },
            "type": "choropleth"
           }
          ],
          "contour": [
           {
            "colorbar": {
             "outlinewidth": 0,
             "ticks": ""
            },
            "colorscale": [
             [
              0,
              "#0d0887"
             ],
             [
              0.1111111111111111,
              "#46039f"
             ],
             [
              0.2222222222222222,
              "#7201a8"
             ],
             [
              0.3333333333333333,
              "#9c179e"
             ],
             [
              0.4444444444444444,
              "#bd3786"
             ],
             [
              0.5555555555555556,
              "#d8576b"
             ],
             [
              0.6666666666666666,
              "#ed7953"
             ],
             [
              0.7777777777777778,
              "#fb9f3a"
             ],
             [
              0.8888888888888888,
              "#fdca26"
             ],
             [
              1,
              "#f0f921"
             ]
            ],
            "type": "contour"
           }
          ],
          "contourcarpet": [
           {
            "colorbar": {
             "outlinewidth": 0,
             "ticks": ""
            },
            "type": "contourcarpet"
           }
          ],
          "heatmap": [
           {
            "colorbar": {
             "outlinewidth": 0,
             "ticks": ""
            },
            "colorscale": [
             [
              0,
              "#0d0887"
             ],
             [
              0.1111111111111111,
              "#46039f"
             ],
             [
              0.2222222222222222,
              "#7201a8"
             ],
             [
              0.3333333333333333,
              "#9c179e"
             ],
             [
              0.4444444444444444,
              "#bd3786"
             ],
             [
              0.5555555555555556,
              "#d8576b"
             ],
             [
              0.6666666666666666,
              "#ed7953"
             ],
             [
              0.7777777777777778,
              "#fb9f3a"
             ],
             [
              0.8888888888888888,
              "#fdca26"
             ],
             [
              1,
              "#f0f921"
             ]
            ],
            "type": "heatmap"
           }
          ],
          "heatmapgl": [
           {
            "colorbar": {
             "outlinewidth": 0,
             "ticks": ""
            },
            "colorscale": [
             [
              0,
              "#0d0887"
             ],
             [
              0.1111111111111111,
              "#46039f"
             ],
             [
              0.2222222222222222,
              "#7201a8"
             ],
             [
              0.3333333333333333,
              "#9c179e"
             ],
             [
              0.4444444444444444,
              "#bd3786"
             ],
             [
              0.5555555555555556,
              "#d8576b"
             ],
             [
              0.6666666666666666,
              "#ed7953"
             ],
             [
              0.7777777777777778,
              "#fb9f3a"
             ],
             [
              0.8888888888888888,
              "#fdca26"
             ],
             [
              1,
              "#f0f921"
             ]
            ],
            "type": "heatmapgl"
           }
          ],
          "histogram": [
           {
            "marker": {
             "pattern": {
              "fillmode": "overlay",
              "size": 10,
              "solidity": 0.2
             }
            },
            "type": "histogram"
           }
          ],
          "histogram2d": [
           {
            "colorbar": {
             "outlinewidth": 0,
             "ticks": ""
            },
            "colorscale": [
             [
              0,
              "#0d0887"
             ],
             [
              0.1111111111111111,
              "#46039f"
             ],
             [
              0.2222222222222222,
              "#7201a8"
             ],
             [
              0.3333333333333333,
              "#9c179e"
             ],
             [
              0.4444444444444444,
              "#bd3786"
             ],
             [
              0.5555555555555556,
              "#d8576b"
             ],
             [
              0.6666666666666666,
              "#ed7953"
             ],
             [
              0.7777777777777778,
              "#fb9f3a"
             ],
             [
              0.8888888888888888,
              "#fdca26"
             ],
             [
              1,
              "#f0f921"
             ]
            ],
            "type": "histogram2d"
           }
          ],
          "histogram2dcontour": [
           {
            "colorbar": {
             "outlinewidth": 0,
             "ticks": ""
            },
            "colorscale": [
             [
              0,
              "#0d0887"
             ],
             [
              0.1111111111111111,
              "#46039f"
             ],
             [
              0.2222222222222222,
              "#7201a8"
             ],
             [
              0.3333333333333333,
              "#9c179e"
             ],
             [
              0.4444444444444444,
              "#bd3786"
             ],
             [
              0.5555555555555556,
              "#d8576b"
             ],
             [
              0.6666666666666666,
              "#ed7953"
             ],
             [
              0.7777777777777778,
              "#fb9f3a"
             ],
             [
              0.8888888888888888,
              "#fdca26"
             ],
             [
              1,
              "#f0f921"
             ]
            ],
            "type": "histogram2dcontour"
           }
          ],
          "mesh3d": [
           {
            "colorbar": {
             "outlinewidth": 0,
             "ticks": ""
            },
            "type": "mesh3d"
           }
          ],
          "parcoords": [
           {
            "line": {
             "colorbar": {
              "outlinewidth": 0,
              "ticks": ""
             }
            },
            "type": "parcoords"
           }
          ],
          "pie": [
           {
            "automargin": true,
            "type": "pie"
           }
          ],
          "scatter": [
           {
            "fillpattern": {
             "fillmode": "overlay",
             "size": 10,
             "solidity": 0.2
            },
            "type": "scatter"
           }
          ],
          "scatter3d": [
           {
            "line": {
             "colorbar": {
              "outlinewidth": 0,
              "ticks": ""
             }
            },
            "marker": {
             "colorbar": {
              "outlinewidth": 0,
              "ticks": ""
             }
            },
            "type": "scatter3d"
           }
          ],
          "scattercarpet": [
           {
            "marker": {
             "colorbar": {
              "outlinewidth": 0,
              "ticks": ""
             }
            },
            "type": "scattercarpet"
           }
          ],
          "scattergeo": [
           {
            "marker": {
             "colorbar": {
              "outlinewidth": 0,
              "ticks": ""
             }
            },
            "type": "scattergeo"
           }
          ],
          "scattergl": [
           {
            "marker": {
             "colorbar": {
              "outlinewidth": 0,
              "ticks": ""
             }
            },
            "type": "scattergl"
           }
          ],
          "scattermapbox": [
           {
            "marker": {
             "colorbar": {
              "outlinewidth": 0,
              "ticks": ""
             }
            },
            "type": "scattermapbox"
           }
          ],
          "scatterpolar": [
           {
            "marker": {
             "colorbar": {
              "outlinewidth": 0,
              "ticks": ""
             }
            },
            "type": "scatterpolar"
           }
          ],
          "scatterpolargl": [
           {
            "marker": {
             "colorbar": {
              "outlinewidth": 0,
              "ticks": ""
             }
            },
            "type": "scatterpolargl"
           }
          ],
          "scatterternary": [
           {
            "marker": {
             "colorbar": {
              "outlinewidth": 0,
              "ticks": ""
             }
            },
            "type": "scatterternary"
           }
          ],
          "surface": [
           {
            "colorbar": {
             "outlinewidth": 0,
             "ticks": ""
            },
            "colorscale": [
             [
              0,
              "#0d0887"
             ],
             [
              0.1111111111111111,
              "#46039f"
             ],
             [
              0.2222222222222222,
              "#7201a8"
             ],
             [
              0.3333333333333333,
              "#9c179e"
             ],
             [
              0.4444444444444444,
              "#bd3786"
             ],
             [
              0.5555555555555556,
              "#d8576b"
             ],
             [
              0.6666666666666666,
              "#ed7953"
             ],
             [
              0.7777777777777778,
              "#fb9f3a"
             ],
             [
              0.8888888888888888,
              "#fdca26"
             ],
             [
              1,
              "#f0f921"
             ]
            ],
            "type": "surface"
           }
          ],
          "table": [
           {
            "cells": {
             "fill": {
              "color": "#EBF0F8"
             },
             "line": {
              "color": "white"
             }
            },
            "header": {
             "fill": {
              "color": "#C8D4E3"
             },
             "line": {
              "color": "white"
             }
            },
            "type": "table"
           }
          ]
         },
         "layout": {
          "annotationdefaults": {
           "arrowcolor": "#2a3f5f",
           "arrowhead": 0,
           "arrowwidth": 1
          },
          "autotypenumbers": "strict",
          "coloraxis": {
           "colorbar": {
            "outlinewidth": 0,
            "ticks": ""
           }
          },
          "colorscale": {
           "diverging": [
            [
             0,
             "#8e0152"
            ],
            [
             0.1,
             "#c51b7d"
            ],
            [
             0.2,
             "#de77ae"
            ],
            [
             0.3,
             "#f1b6da"
            ],
            [
             0.4,
             "#fde0ef"
            ],
            [
             0.5,
             "#f7f7f7"
            ],
            [
             0.6,
             "#e6f5d0"
            ],
            [
             0.7,
             "#b8e186"
            ],
            [
             0.8,
             "#7fbc41"
            ],
            [
             0.9,
             "#4d9221"
            ],
            [
             1,
             "#276419"
            ]
           ],
           "sequential": [
            [
             0,
             "#0d0887"
            ],
            [
             0.1111111111111111,
             "#46039f"
            ],
            [
             0.2222222222222222,
             "#7201a8"
            ],
            [
             0.3333333333333333,
             "#9c179e"
            ],
            [
             0.4444444444444444,
             "#bd3786"
            ],
            [
             0.5555555555555556,
             "#d8576b"
            ],
            [
             0.6666666666666666,
             "#ed7953"
            ],
            [
             0.7777777777777778,
             "#fb9f3a"
            ],
            [
             0.8888888888888888,
             "#fdca26"
            ],
            [
             1,
             "#f0f921"
            ]
           ],
           "sequentialminus": [
            [
             0,
             "#0d0887"
            ],
            [
             0.1111111111111111,
             "#46039f"
            ],
            [
             0.2222222222222222,
             "#7201a8"
            ],
            [
             0.3333333333333333,
             "#9c179e"
            ],
            [
             0.4444444444444444,
             "#bd3786"
            ],
            [
             0.5555555555555556,
             "#d8576b"
            ],
            [
             0.6666666666666666,
             "#ed7953"
            ],
            [
             0.7777777777777778,
             "#fb9f3a"
            ],
            [
             0.8888888888888888,
             "#fdca26"
            ],
            [
             1,
             "#f0f921"
            ]
           ]
          },
          "colorway": [
           "#636efa",
           "#EF553B",
           "#00cc96",
           "#ab63fa",
           "#FFA15A",
           "#19d3f3",
           "#FF6692",
           "#B6E880",
           "#FF97FF",
           "#FECB52"
          ],
          "font": {
           "color": "#2a3f5f"
          },
          "geo": {
           "bgcolor": "white",
           "lakecolor": "white",
           "landcolor": "#E5ECF6",
           "showlakes": true,
           "showland": true,
           "subunitcolor": "white"
          },
          "hoverlabel": {
           "align": "left"
          },
          "hovermode": "closest",
          "mapbox": {
           "style": "light"
          },
          "paper_bgcolor": "white",
          "plot_bgcolor": "#E5ECF6",
          "polar": {
           "angularaxis": {
            "gridcolor": "white",
            "linecolor": "white",
            "ticks": ""
           },
           "bgcolor": "#E5ECF6",
           "radialaxis": {
            "gridcolor": "white",
            "linecolor": "white",
            "ticks": ""
           }
          },
          "scene": {
           "xaxis": {
            "backgroundcolor": "#E5ECF6",
            "gridcolor": "white",
            "gridwidth": 2,
            "linecolor": "white",
            "showbackground": true,
            "ticks": "",
            "zerolinecolor": "white"
           },
           "yaxis": {
            "backgroundcolor": "#E5ECF6",
            "gridcolor": "white",
            "gridwidth": 2,
            "linecolor": "white",
            "showbackground": true,
            "ticks": "",
            "zerolinecolor": "white"
           },
           "zaxis": {
            "backgroundcolor": "#E5ECF6",
            "gridcolor": "white",
            "gridwidth": 2,
            "linecolor": "white",
            "showbackground": true,
            "ticks": "",
            "zerolinecolor": "white"
           }
          },
          "shapedefaults": {
           "line": {
            "color": "#2a3f5f"
           }
          },
          "ternary": {
           "aaxis": {
            "gridcolor": "white",
            "linecolor": "white",
            "ticks": ""
           },
           "baxis": {
            "gridcolor": "white",
            "linecolor": "white",
            "ticks": ""
           },
           "bgcolor": "#E5ECF6",
           "caxis": {
            "gridcolor": "white",
            "linecolor": "white",
            "ticks": ""
           }
          },
          "title": {
           "x": 0.05
          },
          "xaxis": {
           "automargin": true,
           "gridcolor": "white",
           "linecolor": "white",
           "ticks": "",
           "title": {
            "standoff": 15
           },
           "zerolinecolor": "white",
           "zerolinewidth": 2
          },
          "yaxis": {
           "automargin": true,
           "gridcolor": "white",
           "linecolor": "white",
           "ticks": "",
           "title": {
            "standoff": 15
           },
           "zerolinecolor": "white",
           "zerolinewidth": 2
          }
         }
        },
        "title": {
         "text": "Top 15 Nuevos Productos Priorizados"
        },
        "xaxis": {
         "anchor": "y",
         "autorange": true,
         "domain": [
          0,
          1
         ],
         "range": [
          -0.5,
          14.5
         ],
         "title": {
          "text": "Producto"
         },
         "type": "category"
        },
        "yaxis": {
         "anchor": "x",
         "autorange": true,
         "domain": [
          0,
          1
         ],
         "range": [
          0,
          0.6015619977510199
         ],
         "title": {
          "text": "Score_Prioridad"
         },
         "type": "linear"
        }
       }
      },
      "text/html": [
       "<div>                            <div id=\"4e78ba0c-658e-4178-b1e1-60b9f1c42c95\" class=\"plotly-graph-div\" style=\"height:525px; width:100%;\"></div>            <script type=\"text/javascript\">                require([\"plotly\"], function(Plotly) {                    window.PLOTLYENV=window.PLOTLYENV || {};                                    if (document.getElementById(\"4e78ba0c-658e-4178-b1e1-60b9f1c42c95\")) {                    Plotly.newPlot(                        \"4e78ba0c-658e-4178-b1e1-60b9f1c42c95\",                        [{\"alignmentgroup\":\"True\",\"customdata\":[[1.0,0.14994687167947995,\"Abierto\"],[0.508,0.12897756109756858,\"En proceso\"],[0.16,0.06660832968727212,\"Abierto\"]],\"hovertemplate\":\"Categoria=Categoria13\\u003cbr\\u003eProducto=%{x}\\u003cbr\\u003eScore_Prioridad=%{y}\\u003cbr\\u003eValor_esperado=%{customdata[0]}\\u003cbr\\u003eMargen_esperado=%{customdata[1]}\\u003cbr\\u003eEstado=%{customdata[2]}\\u003cextra\\u003e\\u003c\\u002fextra\\u003e\",\"legendgroup\":\"Categoria13\",\"marker\":{\"color\":\"#636efa\",\"pattern\":{\"shape\":\"\"}},\"name\":\"Categoria13\",\"offsetgroup\":\"Categoria13\",\"orientation\":\"v\",\"showlegend\":true,\"textposition\":\"auto\",\"x\":[\"Producto2963\",\"Producto3271\",\"Producto3230\"],\"xaxis\":\"x\",\"y\":[0.571483897863469,0.383141444215471,0.22100908956196086],\"yaxis\":\"y\",\"type\":\"bar\"},{\"alignmentgroup\":\"True\",\"customdata\":[[0.6607407407407407,0.01375197060927419,\"Abierto\"],[0.5413333333333333,0.16478379898743672,\"En proceso\"]],\"hovertemplate\":\"Categoria=Categoria11\\u003cbr\\u003eProducto=%{x}\\u003cbr\\u003eScore_Prioridad=%{y}\\u003cbr\\u003eValor_esperado=%{customdata[0]}\\u003cbr\\u003eMargen_esperado=%{customdata[1]}\\u003cbr\\u003eEstado=%{customdata[2]}\\u003cextra\\u003e\\u003c\\u002fextra\\u003e\",\"legendgroup\":\"Categoria11\",\"marker\":{\"color\":\"#EF553B\",\"pattern\":{\"shape\":\"\"}},\"name\":\"Categoria11\",\"offsetgroup\":\"Categoria11\",\"orientation\":\"v\",\"showlegend\":true,\"textposition\":\"auto\",\"x\":[\"Producto3219\",\"Producto3259\"],\"xaxis\":\"x\",\"y\":[0.5077342889486148,0.40512633102115136],\"yaxis\":\"y\",\"type\":\"bar\"},{\"alignmentgroup\":\"True\",\"customdata\":[[0.8026666666666666,0.3451057357751526,\"Detenido\"]],\"hovertemplate\":\"Categoria=Categoria6\\u003cbr\\u003eProducto=%{x}\\u003cbr\\u003eScore_Prioridad=%{y}\\u003cbr\\u003eValor_esperado=%{customdata[0]}\\u003cbr\\u003eMargen_esperado=%{customdata[1]}\\u003cbr\\u003eEstado=%{customdata[2]}\\u003cextra\\u003e\\u003c\\u002fextra\\u003e\",\"legendgroup\":\"Categoria6\",\"marker\":{\"color\":\"#00cc96\",\"pattern\":{\"shape\":\"\"}},\"name\":\"Categoria6\",\"offsetgroup\":\"Categoria6\",\"orientation\":\"v\",\"showlegend\":true,\"textposition\":\"auto\",\"x\":[\"Producto3171\"],\"xaxis\":\"x\",\"y\":[0.5048601509514616],\"yaxis\":\"y\",\"type\":\"bar\"},{\"alignmentgroup\":\"True\",\"customdata\":[[0.39999999999999997,0.9999999999999999,\"Abierto\"],[0.03333333333333333,0.005562847677979874,\"Ganada\"]],\"hovertemplate\":\"Categoria=Categoria3\\u003cbr\\u003eProducto=%{x}\\u003cbr\\u003eScore_Prioridad=%{y}\\u003cbr\\u003eValor_esperado=%{customdata[0]}\\u003cbr\\u003eMargen_esperado=%{customdata[1]}\\u003cbr\\u003eEstado=%{customdata[2]}\\u003cextra\\u003e\\u003c\\u002fextra\\u003e\",\"legendgroup\":\"Categoria3\",\"marker\":{\"color\":\"#ab63fa\",\"pattern\":{\"shape\":\"\"}},\"name\":\"Categoria3\",\"offsetgroup\":\"Categoria3\",\"orientation\":\"v\",\"showlegend\":true,\"textposition\":\"auto\",\"x\":[\"Producto3297\",\"Producto3088\"],\"xaxis\":\"x\",\"y\":[0.48039710794215884,0.2148710481928871],\"yaxis\":\"y\",\"type\":\"bar\"},{\"alignmentgroup\":\"True\",\"customdata\":[[0.6773333333333333,0.17199091609892284,\"En proceso\"],[0.4339777777777778,0.1279689425033509,\"En proceso\"]],\"hovertemplate\":\"Categoria=Categoria8\\u003cbr\\u003eProducto=%{x}\\u003cbr\\u003eScore_Prioridad=%{y}\\u003cbr\\u003eValor_esperado=%{customdata[0]}\\u003cbr\\u003eMargen_esperado=%{customdata[1]}\\u003cbr\\u003eEstado=%{customdata[2]}\\u003cextra\\u003e\\u003c\\u002fextra\\u003e\",\"legendgroup\":\"Categoria8\",\"marker\":{\"color\":\"#FFA15A\",\"pattern\":{\"shape\":\"\"}},\"name\":\"Categoria8\",\"offsetgroup\":\"Categoria8\",\"orientation\":\"v\",\"showlegend\":true,\"textposition\":\"auto\",\"x\":[\"Producto3270\",\"Producto3257\"],\"xaxis\":\"x\",\"y\":[0.4625281342995029,0.3525663863977421],\"yaxis\":\"y\",\"type\":\"bar\"},{\"alignmentgroup\":\"True\",\"customdata\":[[0.503,0.1264499031189449,\"En proceso\"],[0.152,0.028819301206325393,\"En proceso\"]],\"hovertemplate\":\"Categoria=Categoria10\\u003cbr\\u003eProducto=%{x}\\u003cbr\\u003eScore_Prioridad=%{y}\\u003cbr\\u003eValor_esperado=%{customdata[0]}\\u003cbr\\u003eMargen_esperado=%{customdata[1]}\\u003cbr\\u003eEstado=%{customdata[2]}\\u003cextra\\u003e\\u003c\\u002fextra\\u003e\",\"legendgroup\":\"Categoria10\",\"marker\":{\"color\":\"#19d3f3\",\"pattern\":{\"shape\":\"\"}},\"name\":\"Categoria10\",\"offsetgroup\":\"Categoria10\",\"orientation\":\"v\",\"showlegend\":true,\"textposition\":\"auto\",\"x\":[\"Producto3268\",\"Producto3269\"],\"xaxis\":\"x\",\"y\":[0.3805095297208151,0.21408184684201215],\"yaxis\":\"y\",\"type\":\"bar\"},{\"alignmentgroup\":\"True\",\"customdata\":[[0.08966666666666666,0.12054670083546888,\"En proceso\"]],\"hovertemplate\":\"Categoria=Categoria14\\u003cbr\\u003eProducto=%{x}\\u003cbr\\u003eScore_Prioridad=%{y}\\u003cbr\\u003eValor_esperado=%{customdata[0]}\\u003cbr\\u003eMargen_esperado=%{customdata[1]}\\u003cbr\\u003eEstado=%{customdata[2]}\\u003cextra\\u003e\\u003c\\u002fextra\\u003e\",\"legendgroup\":\"Categoria14\",\"marker\":{\"color\":\"#FF6692\",\"pattern\":{\"shape\":\"\"}},\"name\":\"Categoria14\",\"offsetgroup\":\"Categoria14\",\"orientation\":\"v\",\"showlegend\":true,\"textposition\":\"auto\",\"x\":[\"Producto2949\"],\"xaxis\":\"x\",\"y\":[0.21109034361556872],\"yaxis\":\"y\",\"type\":\"bar\"},{\"alignmentgroup\":\"True\",\"customdata\":[[0.011851851851851851,0.0034932738851733785,\"Ganada\"]],\"hovertemplate\":\"Categoria=Categoria1\\u003cbr\\u003eProducto=%{x}\\u003cbr\\u003eScore_Prioridad=%{y}\\u003cbr\\u003eValor_esperado=%{customdata[0]}\\u003cbr\\u003eMargen_esperado=%{customdata[1]}\\u003cbr\\u003eEstado=%{customdata[2]}\\u003cextra\\u003e\\u003c\\u002fextra\\u003e\",\"legendgroup\":\"Categoria1\",\"marker\":{\"color\":\"#B6E880\",\"pattern\":{\"shape\":\"\"}},\"name\":\"Categoria1\",\"offsetgroup\":\"Categoria1\",\"orientation\":\"v\",\"showlegend\":true,\"textposition\":\"auto\",\"x\":[\"Producto3186\"],\"xaxis\":\"x\",\"y\":[0.20564105975204489],\"yaxis\":\"y\",\"type\":\"bar\"},{\"alignmentgroup\":\"True\",\"customdata\":[[0.0016758518518518518,0.00011523129084456667,\"Ganada\"]],\"hovertemplate\":\"Categoria=Categoria16\\u003cbr\\u003eProducto=%{x}\\u003cbr\\u003eScore_Prioridad=%{y}\\u003cbr\\u003eValor_esperado=%{customdata[0]}\\u003cbr\\u003eMargen_esperado=%{customdata[1]}\\u003cbr\\u003eEstado=%{customdata[2]}\\u003cextra\\u003e\\u003c\\u002fextra\\u003e\",\"legendgroup\":\"Categoria16\",\"marker\":{\"color\":\"#FF97FF\",\"pattern\":{\"shape\":\"\"}},\"name\":\"Categoria16\",\"offsetgroup\":\"Categoria16\",\"orientation\":\"v\",\"showlegend\":true,\"textposition\":\"auto\",\"x\":[\"Producto3288\"],\"xaxis\":\"x\",\"y\":[0.2007081487434555],\"yaxis\":\"y\",\"type\":\"bar\"}],                        {\"template\":{\"data\":{\"histogram2dcontour\":[{\"type\":\"histogram2dcontour\",\"colorbar\":{\"outlinewidth\":0,\"ticks\":\"\"},\"colorscale\":[[0.0,\"#0d0887\"],[0.1111111111111111,\"#46039f\"],[0.2222222222222222,\"#7201a8\"],[0.3333333333333333,\"#9c179e\"],[0.4444444444444444,\"#bd3786\"],[0.5555555555555556,\"#d8576b\"],[0.6666666666666666,\"#ed7953\"],[0.7777777777777778,\"#fb9f3a\"],[0.8888888888888888,\"#fdca26\"],[1.0,\"#f0f921\"]]}],\"choropleth\":[{\"type\":\"choropleth\",\"colorbar\":{\"outlinewidth\":0,\"ticks\":\"\"}}],\"histogram2d\":[{\"type\":\"histogram2d\",\"colorbar\":{\"outlinewidth\":0,\"ticks\":\"\"},\"colorscale\":[[0.0,\"#0d0887\"],[0.1111111111111111,\"#46039f\"],[0.2222222222222222,\"#7201a8\"],[0.3333333333333333,\"#9c179e\"],[0.4444444444444444,\"#bd3786\"],[0.5555555555555556,\"#d8576b\"],[0.6666666666666666,\"#ed7953\"],[0.7777777777777778,\"#fb9f3a\"],[0.8888888888888888,\"#fdca26\"],[1.0,\"#f0f921\"]]}],\"heatmap\":[{\"type\":\"heatmap\",\"colorbar\":{\"outlinewidth\":0,\"ticks\":\"\"},\"colorscale\":[[0.0,\"#0d0887\"],[0.1111111111111111,\"#46039f\"],[0.2222222222222222,\"#7201a8\"],[0.3333333333333333,\"#9c179e\"],[0.4444444444444444,\"#bd3786\"],[0.5555555555555556,\"#d8576b\"],[0.6666666666666666,\"#ed7953\"],[0.7777777777777778,\"#fb9f3a\"],[0.8888888888888888,\"#fdca26\"],[1.0,\"#f0f921\"]]}],\"heatmapgl\":[{\"type\":\"heatmapgl\",\"colorbar\":{\"outlinewidth\":0,\"ticks\":\"\"},\"colorscale\":[[0.0,\"#0d0887\"],[0.1111111111111111,\"#46039f\"],[0.2222222222222222,\"#7201a8\"],[0.3333333333333333,\"#9c179e\"],[0.4444444444444444,\"#bd3786\"],[0.5555555555555556,\"#d8576b\"],[0.6666666666666666,\"#ed7953\"],[0.7777777777777778,\"#fb9f3a\"],[0.8888888888888888,\"#fdca26\"],[1.0,\"#f0f921\"]]}],\"contourcarpet\":[{\"type\":\"contourcarpet\",\"colorbar\":{\"outlinewidth\":0,\"ticks\":\"\"}}],\"contour\":[{\"type\":\"contour\",\"colorbar\":{\"outlinewidth\":0,\"ticks\":\"\"},\"colorscale\":[[0.0,\"#0d0887\"],[0.1111111111111111,\"#46039f\"],[0.2222222222222222,\"#7201a8\"],[0.3333333333333333,\"#9c179e\"],[0.4444444444444444,\"#bd3786\"],[0.5555555555555556,\"#d8576b\"],[0.6666666666666666,\"#ed7953\"],[0.7777777777777778,\"#fb9f3a\"],[0.8888888888888888,\"#fdca26\"],[1.0,\"#f0f921\"]]}],\"surface\":[{\"type\":\"surface\",\"colorbar\":{\"outlinewidth\":0,\"ticks\":\"\"},\"colorscale\":[[0.0,\"#0d0887\"],[0.1111111111111111,\"#46039f\"],[0.2222222222222222,\"#7201a8\"],[0.3333333333333333,\"#9c179e\"],[0.4444444444444444,\"#bd3786\"],[0.5555555555555556,\"#d8576b\"],[0.6666666666666666,\"#ed7953\"],[0.7777777777777778,\"#fb9f3a\"],[0.8888888888888888,\"#fdca26\"],[1.0,\"#f0f921\"]]}],\"mesh3d\":[{\"type\":\"mesh3d\",\"colorbar\":{\"outlinewidth\":0,\"ticks\":\"\"}}],\"scatter\":[{\"fillpattern\":{\"fillmode\":\"overlay\",\"size\":10,\"solidity\":0.2},\"type\":\"scatter\"}],\"parcoords\":[{\"type\":\"parcoords\",\"line\":{\"colorbar\":{\"outlinewidth\":0,\"ticks\":\"\"}}}],\"scatterpolargl\":[{\"type\":\"scatterpolargl\",\"marker\":{\"colorbar\":{\"outlinewidth\":0,\"ticks\":\"\"}}}],\"bar\":[{\"error_x\":{\"color\":\"#2a3f5f\"},\"error_y\":{\"color\":\"#2a3f5f\"},\"marker\":{\"line\":{\"color\":\"#E5ECF6\",\"width\":0.5},\"pattern\":{\"fillmode\":\"overlay\",\"size\":10,\"solidity\":0.2}},\"type\":\"bar\"}],\"scattergeo\":[{\"type\":\"scattergeo\",\"marker\":{\"colorbar\":{\"outlinewidth\":0,\"ticks\":\"\"}}}],\"scatterpolar\":[{\"type\":\"scatterpolar\",\"marker\":{\"colorbar\":{\"outlinewidth\":0,\"ticks\":\"\"}}}],\"histogram\":[{\"marker\":{\"pattern\":{\"fillmode\":\"overlay\",\"size\":10,\"solidity\":0.2}},\"type\":\"histogram\"}],\"scattergl\":[{\"type\":\"scattergl\",\"marker\":{\"colorbar\":{\"outlinewidth\":0,\"ticks\":\"\"}}}],\"scatter3d\":[{\"type\":\"scatter3d\",\"line\":{\"colorbar\":{\"outlinewidth\":0,\"ticks\":\"\"}},\"marker\":{\"colorbar\":{\"outlinewidth\":0,\"ticks\":\"\"}}}],\"scattermapbox\":[{\"type\":\"scattermapbox\",\"marker\":{\"colorbar\":{\"outlinewidth\":0,\"ticks\":\"\"}}}],\"scatterternary\":[{\"type\":\"scatterternary\",\"marker\":{\"colorbar\":{\"outlinewidth\":0,\"ticks\":\"\"}}}],\"scattercarpet\":[{\"type\":\"scattercarpet\",\"marker\":{\"colorbar\":{\"outlinewidth\":0,\"ticks\":\"\"}}}],\"carpet\":[{\"aaxis\":{\"endlinecolor\":\"#2a3f5f\",\"gridcolor\":\"white\",\"linecolor\":\"white\",\"minorgridcolor\":\"white\",\"startlinecolor\":\"#2a3f5f\"},\"baxis\":{\"endlinecolor\":\"#2a3f5f\",\"gridcolor\":\"white\",\"linecolor\":\"white\",\"minorgridcolor\":\"white\",\"startlinecolor\":\"#2a3f5f\"},\"type\":\"carpet\"}],\"table\":[{\"cells\":{\"fill\":{\"color\":\"#EBF0F8\"},\"line\":{\"color\":\"white\"}},\"header\":{\"fill\":{\"color\":\"#C8D4E3\"},\"line\":{\"color\":\"white\"}},\"type\":\"table\"}],\"barpolar\":[{\"marker\":{\"line\":{\"color\":\"#E5ECF6\",\"width\":0.5},\"pattern\":{\"fillmode\":\"overlay\",\"size\":10,\"solidity\":0.2}},\"type\":\"barpolar\"}],\"pie\":[{\"automargin\":true,\"type\":\"pie\"}]},\"layout\":{\"autotypenumbers\":\"strict\",\"colorway\":[\"#636efa\",\"#EF553B\",\"#00cc96\",\"#ab63fa\",\"#FFA15A\",\"#19d3f3\",\"#FF6692\",\"#B6E880\",\"#FF97FF\",\"#FECB52\"],\"font\":{\"color\":\"#2a3f5f\"},\"hovermode\":\"closest\",\"hoverlabel\":{\"align\":\"left\"},\"paper_bgcolor\":\"white\",\"plot_bgcolor\":\"#E5ECF6\",\"polar\":{\"bgcolor\":\"#E5ECF6\",\"angularaxis\":{\"gridcolor\":\"white\",\"linecolor\":\"white\",\"ticks\":\"\"},\"radialaxis\":{\"gridcolor\":\"white\",\"linecolor\":\"white\",\"ticks\":\"\"}},\"ternary\":{\"bgcolor\":\"#E5ECF6\",\"aaxis\":{\"gridcolor\":\"white\",\"linecolor\":\"white\",\"ticks\":\"\"},\"baxis\":{\"gridcolor\":\"white\",\"linecolor\":\"white\",\"ticks\":\"\"},\"caxis\":{\"gridcolor\":\"white\",\"linecolor\":\"white\",\"ticks\":\"\"}},\"coloraxis\":{\"colorbar\":{\"outlinewidth\":0,\"ticks\":\"\"}},\"colorscale\":{\"sequential\":[[0.0,\"#0d0887\"],[0.1111111111111111,\"#46039f\"],[0.2222222222222222,\"#7201a8\"],[0.3333333333333333,\"#9c179e\"],[0.4444444444444444,\"#bd3786\"],[0.5555555555555556,\"#d8576b\"],[0.6666666666666666,\"#ed7953\"],[0.7777777777777778,\"#fb9f3a\"],[0.8888888888888888,\"#fdca26\"],[1.0,\"#f0f921\"]],\"sequentialminus\":[[0.0,\"#0d0887\"],[0.1111111111111111,\"#46039f\"],[0.2222222222222222,\"#7201a8\"],[0.3333333333333333,\"#9c179e\"],[0.4444444444444444,\"#bd3786\"],[0.5555555555555556,\"#d8576b\"],[0.6666666666666666,\"#ed7953\"],[0.7777777777777778,\"#fb9f3a\"],[0.8888888888888888,\"#fdca26\"],[1.0,\"#f0f921\"]],\"diverging\":[[0,\"#8e0152\"],[0.1,\"#c51b7d\"],[0.2,\"#de77ae\"],[0.3,\"#f1b6da\"],[0.4,\"#fde0ef\"],[0.5,\"#f7f7f7\"],[0.6,\"#e6f5d0\"],[0.7,\"#b8e186\"],[0.8,\"#7fbc41\"],[0.9,\"#4d9221\"],[1,\"#276419\"]]},\"xaxis\":{\"gridcolor\":\"white\",\"linecolor\":\"white\",\"ticks\":\"\",\"title\":{\"standoff\":15},\"zerolinecolor\":\"white\",\"automargin\":true,\"zerolinewidth\":2},\"yaxis\":{\"gridcolor\":\"white\",\"linecolor\":\"white\",\"ticks\":\"\",\"title\":{\"standoff\":15},\"zerolinecolor\":\"white\",\"automargin\":true,\"zerolinewidth\":2},\"scene\":{\"xaxis\":{\"backgroundcolor\":\"#E5ECF6\",\"gridcolor\":\"white\",\"linecolor\":\"white\",\"showbackground\":true,\"ticks\":\"\",\"zerolinecolor\":\"white\",\"gridwidth\":2},\"yaxis\":{\"backgroundcolor\":\"#E5ECF6\",\"gridcolor\":\"white\",\"linecolor\":\"white\",\"showbackground\":true,\"ticks\":\"\",\"zerolinecolor\":\"white\",\"gridwidth\":2},\"zaxis\":{\"backgroundcolor\":\"#E5ECF6\",\"gridcolor\":\"white\",\"linecolor\":\"white\",\"showbackground\":true,\"ticks\":\"\",\"zerolinecolor\":\"white\",\"gridwidth\":2}},\"shapedefaults\":{\"line\":{\"color\":\"#2a3f5f\"}},\"annotationdefaults\":{\"arrowcolor\":\"#2a3f5f\",\"arrowhead\":0,\"arrowwidth\":1},\"geo\":{\"bgcolor\":\"white\",\"landcolor\":\"#E5ECF6\",\"subunitcolor\":\"white\",\"showland\":true,\"showlakes\":true,\"lakecolor\":\"white\"},\"title\":{\"x\":0.05},\"mapbox\":{\"style\":\"light\"}}},\"xaxis\":{\"anchor\":\"y\",\"domain\":[0.0,1.0],\"title\":{\"text\":\"Producto\"}},\"yaxis\":{\"anchor\":\"x\",\"domain\":[0.0,1.0],\"title\":{\"text\":\"Score_Prioridad\"}},\"legend\":{\"title\":{\"text\":\"Categoria\"},\"tracegroupgap\":0},\"title\":{\"text\":\"Top 15 Nuevos Productos Priorizados\"},\"barmode\":\"relative\"},                        {\"responsive\": true}                    ).then(function(){\n",
       "                            \n",
       "var gd = document.getElementById('4e78ba0c-658e-4178-b1e1-60b9f1c42c95');\n",
       "var x = new MutationObserver(function (mutations, observer) {{\n",
       "        var display = window.getComputedStyle(gd).display;\n",
       "        if (!display || display === 'none') {{\n",
       "            console.log([gd, 'removed!']);\n",
       "            Plotly.purge(gd);\n",
       "            observer.disconnect();\n",
       "        }}\n",
       "}});\n",
       "\n",
       "// Listen for the removal of the full notebook cells\n",
       "var notebookContainer = gd.closest('#notebook-container');\n",
       "if (notebookContainer) {{\n",
       "    x.observe(notebookContainer, {childList: true});\n",
       "}}\n",
       "\n",
       "// Listen for the clearing of the current output cell\n",
       "var outputEl = gd.closest('.output');\n",
       "if (outputEl) {{\n",
       "    x.observe(outputEl, {childList: true});\n",
       "}}\n",
       "\n",
       "                        })                };                });            </script>        </div>"
      ]
     },
     "metadata": {},
     "output_type": "display_data"
    }
   ],
   "source": [
    "#Visualización del score\n",
    "\n",
    "import plotly.express as px\n",
    "\n",
    "fig = px.bar(\n",
    "    df_score.sort_values('Score_Prioridad', ascending=False).head(15),\n",
    "    x='Producto',\n",
    "    y='Score_Prioridad',\n",
    "    color='Categoria',\n",
    "    hover_data=['Valor_esperado', 'Margen_esperado', 'Estado'],\n",
    "    title='Top 15 Nuevos Productos Priorizados'\n",
    ")\n",
    "fig.show()"
   ]
  },
  {
   "cell_type": "code",
   "execution_count": 87,
   "id": "3742c585-1130-453a-8f3e-41a609861b59",
   "metadata": {},
   "outputs": [
    {
     "name": "stderr",
     "output_type": "stream",
     "text": [
      "C:\\Users\\marib\\anaconda3\\Lib\\site-packages\\sklearn\\cluster\\_kmeans.py:1429: UserWarning:\n",
      "\n",
      "KMeans is known to have a memory leak on Windows with MKL, when there are less chunks than available threads. You can avoid it by setting the environment variable OMP_NUM_THREADS=1.\n",
      "\n",
      "C:\\Users\\marib\\anaconda3\\Lib\\site-packages\\sklearn\\cluster\\_kmeans.py:1429: UserWarning:\n",
      "\n",
      "KMeans is known to have a memory leak on Windows with MKL, when there are less chunks than available threads. You can avoid it by setting the environment variable OMP_NUM_THREADS=1.\n",
      "\n",
      "C:\\Users\\marib\\anaconda3\\Lib\\site-packages\\sklearn\\cluster\\_kmeans.py:1429: UserWarning:\n",
      "\n",
      "KMeans is known to have a memory leak on Windows with MKL, when there are less chunks than available threads. You can avoid it by setting the environment variable OMP_NUM_THREADS=1.\n",
      "\n",
      "C:\\Users\\marib\\anaconda3\\Lib\\site-packages\\sklearn\\cluster\\_kmeans.py:1429: UserWarning:\n",
      "\n",
      "KMeans is known to have a memory leak on Windows with MKL, when there are less chunks than available threads. You can avoid it by setting the environment variable OMP_NUM_THREADS=1.\n",
      "\n",
      "C:\\Users\\marib\\anaconda3\\Lib\\site-packages\\sklearn\\cluster\\_kmeans.py:1429: UserWarning:\n",
      "\n",
      "KMeans is known to have a memory leak on Windows with MKL, when there are less chunks than available threads. You can avoid it by setting the environment variable OMP_NUM_THREADS=1.\n",
      "\n",
      "C:\\Users\\marib\\anaconda3\\Lib\\site-packages\\sklearn\\cluster\\_kmeans.py:1429: UserWarning:\n",
      "\n",
      "KMeans is known to have a memory leak on Windows with MKL, when there are less chunks than available threads. You can avoid it by setting the environment variable OMP_NUM_THREADS=1.\n",
      "\n",
      "C:\\Users\\marib\\anaconda3\\Lib\\site-packages\\sklearn\\cluster\\_kmeans.py:1429: UserWarning:\n",
      "\n",
      "KMeans is known to have a memory leak on Windows with MKL, when there are less chunks than available threads. You can avoid it by setting the environment variable OMP_NUM_THREADS=1.\n",
      "\n",
      "C:\\Users\\marib\\anaconda3\\Lib\\site-packages\\sklearn\\cluster\\_kmeans.py:1429: UserWarning:\n",
      "\n",
      "KMeans is known to have a memory leak on Windows with MKL, when there are less chunks than available threads. You can avoid it by setting the environment variable OMP_NUM_THREADS=1.\n",
      "\n",
      "C:\\Users\\marib\\anaconda3\\Lib\\site-packages\\sklearn\\cluster\\_kmeans.py:1429: UserWarning:\n",
      "\n",
      "KMeans is known to have a memory leak on Windows with MKL, when there are less chunks than available threads. You can avoid it by setting the environment variable OMP_NUM_THREADS=1.\n",
      "\n"
     ]
    },
    {
     "data": {
      "image/png": "[encoded data removed]",
      "text/plain": [
       "<Figure size 640x480 with 1 Axes>"
      ]
     },
     "metadata": {},
     "output_type": "display_data"
    },
    {
     "name": "stderr",
     "output_type": "stream",
     "text": [
      "C:\\Users\\marib\\anaconda3\\Lib\\site-packages\\sklearn\\cluster\\_kmeans.py:1429: UserWarning:\n",
      "\n",
      "KMeans is known to have a memory leak on Windows with MKL, when there are less chunks than available threads. You can avoid it by setting the environment variable OMP_NUM_THREADS=1.\n",
      "\n"
     ]
    },
    {
     "data": {
      "image/png": "[encoded data removed]",
      "text/plain": [
       "<Figure size 1000x600 with 1 Axes>"
      ]
     },
     "metadata": {},
     "output_type": "display_data"
    },
    {
     "data": {
      "text/html": [
       "<div>\n",
       "<style scoped>\n",
       "    .dataframe tbody tr th:only-of-type {\n",
       "        vertical-align: middle;\n",
       "    }\n",
       "\n",
       "    .dataframe tbody tr th {\n",
       "        vertical-align: top;\n",
       "    }\n",
       "\n",
       "    .dataframe thead th {\n",
       "        text-align: right;\n",
       "    }\n",
       "</style>\n",
       "<table border=\"1\" class=\"dataframe\">\n",
       "  <thead>\n",
       "    <tr style=\"text-align: right;\">\n",
       "      <th></th>\n",
       "      <th>Valor_esperado</th>\n",
       "      <th>Margen_esperado</th>\n",
       "      <th>Volumen</th>\n",
       "    </tr>\n",
       "    <tr>\n",
       "      <th>Cluster</th>\n",
       "      <th></th>\n",
       "      <th></th>\n",
       "      <th></th>\n",
       "    </tr>\n",
       "  </thead>\n",
       "  <tbody>\n",
       "    <tr>\n",
       "      <th>0</th>\n",
       "      <td>4.493316e+04</td>\n",
       "      <td>2.897944e+07</td>\n",
       "      <td>15293.684211</td>\n",
       "    </tr>\n",
       "    <tr>\n",
       "      <th>1</th>\n",
       "      <td>4.145289e+06</td>\n",
       "      <td>3.344098e+08</td>\n",
       "      <td>667800.000000</td>\n",
       "    </tr>\n",
       "    <tr>\n",
       "      <th>2</th>\n",
       "      <td>3.451257e+05</td>\n",
       "      <td>3.801317e+07</td>\n",
       "      <td>6347.826087</td>\n",
       "    </tr>\n",
       "  </tbody>\n",
       "</table>\n",
       "</div>"
      ],
      "text/plain": [
       "         Valor_esperado  Margen_esperado        Volumen\n",
       "Cluster                                                \n",
       "0          4.493316e+04     2.897944e+07   15293.684211\n",
       "1          4.145289e+06     3.344098e+08  667800.000000\n",
       "2          3.451257e+05     3.801317e+07    6347.826087"
      ]
     },
     "execution_count": 87,
     "metadata": {},
     "output_type": "execute_result"
    }
   ],
   "source": [
    "#Clustering de nuevos productos\n",
    "\n",
    "#Variables para clustering\n",
    "\n",
    "features = df_nvo_prod[['Valor_esperado','Margen_esperado','Volumen','Probabilidad']]\n",
    "\n",
    "#Escalar datos\n",
    "scaler = StandardScaler()\n",
    "scaled_features = scaler.fit_transform(features)\n",
    "\n",
    "#Elegir número óptimo de clústeres (Elbow Method)\n",
    "inertia = []\n",
    "for k in range(1,10):\n",
    "    km = KMeans(n_clusters=k, random_state=42)\n",
    "    km.fit(scaled_features)\n",
    "    inertia.append(km.inertia_)\n",
    "\n",
    "plt.plot(range(1,10), inertia, marker='o')\n",
    "plt.title(\"Método del codo para elegir K\")\n",
    "plt.xlabel(\"Número de clústers\")\n",
    "plt.ylabel(\"Inercia\")\n",
    "plt.grid()\n",
    "plt.show()\n",
    "\n",
    "#Ajuste del modelo con k óptimo\n",
    "kmeans = KMeans(n_clusters=3, random_state=42)\n",
    "df_nvo_prod['Cluster']= kmeans.fit_predict(scaled_features)\n",
    "\n",
    "#Visualización en 2D (PCA)\n",
    "\n",
    "pca = PCA(n_components=2)\n",
    "pca_components = pca.fit_transform(scaled_features)\n",
    "df_nvo_prod['PCA1'] = pca_components[:,0]\n",
    "df_nvo_prod['PCA2'] = pca_components[:,1]\n",
    "\n",
    "plt.figure(figsize=(10,6))\n",
    "sns.scatterplot(data=df_nvo_prod, x='PCA1', y='PCA2', hue='Cluster', palette='Set2')\n",
    "plt.title(\"Clustering de nuevos productos (PCA 2D)\")\n",
    "plt.show()\n",
    "\n",
    "#Revisamos productos por grupo\n",
    "df_nvo_prod.groupby('Cluster')[['Valor_esperado', 'Margen_esperado', 'Volumen']].mean()"
   ]
  },
  {
   "cell_type": "code",
   "execution_count": 88,
   "id": "cc167f1f-1394-4eed-9a2c-3973040f4dcf",
   "metadata": {},
   "outputs": [],
   "source": [
    "#Calcular promedios por clúster\n",
    "promedios_cluster = df_nvo_prod.groupby('Cluster')[['Valor_esperado', 'Margen_esperado', 'Volumen']].mean().reset_index()\n",
    "\n",
    "#Exportar a Excel con dos hojas\n",
    "with pd.ExcelWriter(\"clustering_nuevos_productos.xlsx\", engine='xlsxwriter') as writer:\n",
    "    df_nvo_prod.to_excel(writer, sheet_name=\"Datos Clusterizados\", index=False)\n",
    "    promedios_cluster.to_excel(writer, sheet_name=\"Promedios por Cluster\", index=False)\n",
    "\n"
   ]
  },
  {
   "cell_type": "code",
   "execution_count": 89,
   "id": "1575df2b-6c55-43d6-9a13-c5e69d8c0a20",
   "metadata": {},
   "outputs": [
    {
     "name": "stdout",
     "output_type": "stream",
     "text": [
      "   Responsable  Total_Proyectos  Score_Promedio  Proyectos_Ganados  \\\n",
      "0       Genaro                6        0.666667                  1   \n",
      "1      Dolores                5        0.600000                  1   \n",
      "2         Lalo                7        0.600000                  1   \n",
      "3         Alex               10        0.583333                  1   \n",
      "4        Diego                2        0.500000                  0   \n",
      "5         Jose                4        0.500000                  0   \n",
      "6         Lili                4        0.500000                  0   \n",
      "7       Manuel                2        0.500000                  0   \n",
      "8        Uriel                3        0.500000                  0   \n",
      "9       Daniel                8        0.425000                  0   \n",
      "10    Fernando                4        0.400000                  0   \n",
      "11       Gerry               11        0.316667                  0   \n",
      "12      Renata                3        0.200000                  0   \n",
      "13       Paola                1             NaN                  0   \n",
      "\n",
      "    Proyectos_En_Proceso  Proyectos_Perdidos  \n",
      "0                      3                   0  \n",
      "1                      3                   0  \n",
      "2                      2                   0  \n",
      "3                      4                   0  \n",
      "4                      1                   0  \n",
      "5                      3                   0  \n",
      "6                      1                   0  \n",
      "7                      0                   0  \n",
      "8                      1                   0  \n",
      "9                      4                   0  \n",
      "10                     1                   0  \n",
      "11                     5                   1  \n",
      "12                     2                   0  \n",
      "13                     1                   0  \n"
     ]
    }
   ],
   "source": [
    "#Analisis por responsable (Comercial)\n",
    "\n",
    "df = df_nvo_prod.copy()\n",
    "\n",
    "#Mapeo de estados a score\n",
    "\n",
    "estado_score = {\n",
    "    'Ganada': 1.0,\n",
    "    'En proceso': 0.7,\n",
    "    'Abierto': 0.5,\n",
    "    'Detenido': 0.2,\n",
    "    'Perdido': 0.0\n",
    "}\n",
    "\n",
    "# Normaliza texto y asigna score\n",
    "\n",
    "df['Estado'] = df['Estado'].str.strip().str.title()  # Asegura formato uniforme\n",
    "df['Score_cierre'] = df['Estado'].map(estado_score)\n",
    "\n",
    "# Agrupar por responsable\n",
    "resumen = df.groupby('Responsable').agg(\n",
    "    Total_Proyectos=('Estado', 'count'),\n",
    "    Score_Promedio=('Score_cierre', 'mean'),\n",
    "    Proyectos_Ganados=('Estado', lambda x: (x == 'Ganada').sum()),\n",
    "    Proyectos_En_Proceso=('Estado', lambda x: (x == 'En Proceso').sum()),\n",
    "    Proyectos_Perdidos=('Estado', lambda x: (x == 'Perdido').sum())\n",
    ").sort_values(by='Score_Promedio', ascending=False)\n",
    "\n",
    "resumen.reset_index(inplace=True)\n",
    "print(resumen)"
   ]
  },
  {
   "cell_type": "code",
   "execution_count": 90,
   "id": "6141cfe0-b327-4391-a612-96a6b31ea7f0",
   "metadata": {},
   "outputs": [
    {
     "name": "stderr",
     "output_type": "stream",
     "text": [
      "C:\\Users\\marib\\anaconda3\\Lib\\site-packages\\sklearn\\metrics\\_classification.py:1531: UndefinedMetricWarning:\n",
      "\n",
      "Precision is ill-defined and being set to 0.0 in labels with no predicted samples. Use `zero_division` parameter to control this behavior.\n",
      "\n"
     ]
    },
    {
     "name": "stdout",
     "output_type": "stream",
     "text": [
      "Reporte de clasificación:\n",
      "               precision    recall  f1-score   support\n",
      "\n",
      "           0       0.00      0.00      0.00         1\n",
      "           1       0.50      1.00      0.67         1\n",
      "\n",
      "    accuracy                           0.50         2\n",
      "   macro avg       0.25      0.50      0.33         2\n",
      "weighted avg       0.25      0.50      0.33         2\n",
      "\n",
      "Matriz de confusión:\n",
      " [[0 1]\n",
      " [0 1]]\n"
     ]
    },
    {
     "name": "stderr",
     "output_type": "stream",
     "text": [
      "C:\\Users\\marib\\anaconda3\\Lib\\site-packages\\sklearn\\metrics\\_classification.py:1531: UndefinedMetricWarning:\n",
      "\n",
      "Precision is ill-defined and being set to 0.0 in labels with no predicted samples. Use `zero_division` parameter to control this behavior.\n",
      "\n",
      "C:\\Users\\marib\\anaconda3\\Lib\\site-packages\\sklearn\\metrics\\_classification.py:1531: UndefinedMetricWarning:\n",
      "\n",
      "Precision is ill-defined and being set to 0.0 in labels with no predicted samples. Use `zero_division` parameter to control this behavior.\n",
      "\n"
     ]
    }
   ],
   "source": [
    "df_nvo_prod=pd.read_excel(\"C:/Users/marib/CasoIBP/Nvosproductos.xlsx\")\n",
    "df_train = df_nvo_prod.copy()\n",
    "\n",
    "#Filtramos proyectos con estado ganado o perdido\n",
    "df  = df_train[df_train['Estado'].isin(['Ganada','Perdido'])].copy()\n",
    "df['Estado_Binario'] = df['Estado'].apply(lambda x: 1 if x == 'Ganada' else 0)\n",
    "\n",
    "#Selección de columnas relevantes para el analisis\n",
    "columnas_modelo = [\n",
    "    'Responsable', 'Cliente', 'Categoria', 'Nvo Desarrollo',\n",
    "    'Precio', 'Volumen', 'Venta', 'Gross Margin', 'Canal', 'Probabilidad'\n",
    "]\n",
    "\n",
    "df_modelo = df[columnas_modelo + ['Estado_Binario']].dropna(subset=columnas_modelo + ['Estado_Binario'])\n",
    "\n",
    "\n",
    "#Codificar variables categoricas\n",
    "label_encoders = {}\n",
    "for col in columnas_modelo:\n",
    "    le = LabelEncoder()\n",
    "    df_modelo[col] = le.fit_transform(df_modelo[col])\n",
    "    label_encoders[col]= le\n",
    "\n",
    "#Separar variables y target\n",
    "X = df_modelo[columnas_modelo]\n",
    "y = df_modelo['Estado_Binario']\n",
    "\n",
    "#Dividimos en entrenamiento y prueba\n",
    "\n",
    "X_train, X_test, y_train, y_test = train_test_split(X, y, test_size=0.3, random_state=42)\n",
    "\n",
    "#Entrenar modelo Random Forest\n",
    "clf = RandomForestClassifier(n_estimators=10, random_state=42)\n",
    "clf.fit(X_train, y_train)\n",
    "\n",
    "#Evaluar el modelo\n",
    "y_pred = clf.predict(X_test)\n",
    "print(\"Reporte de clasificación:\\n\", classification_report(y_test, y_pred))\n",
    "print(\"Matriz de confusión:\\n\", confusion_matrix(y_test, y_pred))\n",
    "\n",
    "#Importancia de variables\n",
    "importancia = pd.DataFrame({'Variable':X.columns, 'Importancia': clf.feature_importances_})\n",
    "importancia.sort_values(by='Importancia', ascending = True, inplace=True)\n"
   ]
  },
  {
   "cell_type": "code",
   "execution_count": 91,
   "id": "8d829321-6b48-401b-95e3-166cf7bf6f88",
   "metadata": {},
   "outputs": [
    {
     "name": "stdout",
     "output_type": "stream",
     "text": [
      "       Variable  Importancia\n",
      "7  Probabilidad     0.211940\n",
      "2     Categoria     0.178109\n",
      "5         Venta     0.152018\n",
      "4       Volumen     0.122575\n",
      "1       Cliente     0.104291\n",
      "0   Responsable     0.099613\n",
      "3        Precio     0.092648\n",
      "6  Gross Margin     0.038806\n"
     ]
    }
   ],
   "source": [
    "columnas_filtradas = [\n",
    "    'Responsable', 'Cliente', 'Categoria',\n",
    "    'Precio', 'Volumen', 'Venta',\n",
    "    'Gross Margin', 'Probabilidad'\n",
    "]\n",
    "\n",
    "X = df_modelo[columnas_filtradas]\n",
    "y = df['Estado_Binario']\n",
    "\n",
    "modelo = RandomForestClassifier(n_estimators=100, random_state=42, class_weight='balanced')\n",
    "modelo.fit(X, y)\n",
    "\n",
    "importancias = pd.DataFrame({\n",
    "    'Variable': X.columns,\n",
    "    'Importancia': modelo.feature_importances_\n",
    "}).sort_values(by='Importancia', ascending=False)\n",
    "\n",
    "print(importancias)"
   ]
  },
  {
   "cell_type": "code",
   "execution_count": 92,
   "id": "9ad18457-8e28-4c61-86e2-333d812b5725",
   "metadata": {},
   "outputs": [
    {
     "data": {
      "text/plain": [
       "Responsable\n",
       "Alex       1.0\n",
       "Dolores    1.0\n",
       "Genaro     1.0\n",
       "Gerry      0.0\n",
       "Lalo       1.0\n",
       "Name: Estado_Binario, dtype: float64"
      ]
     },
     "execution_count": 92,
     "metadata": {},
     "output_type": "execute_result"
    }
   ],
   "source": [
    "df.groupby('Responsable')['Estado_Binario'].mean()"
   ]
  },
  {
   "cell_type": "code",
   "execution_count": 93,
   "id": "b73fb024-c29a-4eb7-ba0e-c115babc3e1c",
   "metadata": {},
   "outputs": [
    {
     "name": "stdout",
     "output_type": "stream",
     "text": [
      "Categoria   Categoria1  Categoria15  Categoria16  Categoria17  Categoria3\n",
      "Cliente                                                                  \n",
      "Cliente110         0.0          0.0          0.0          0.0         1.0\n",
      "Cliente111         0.0          0.0          1.0          0.0         0.0\n",
      "Cliente32          0.0          0.0          0.0          1.0         0.0\n",
      "Cliente40          0.0          0.0          0.0          0.0         0.0\n",
      "Cliente69          1.0          0.0          0.0          0.0         0.0\n"
     ]
    }
   ],
   "source": [
    "tabla_cruzada = df.pivot_table(\n",
    "    values='Estado_Binario',\n",
    "    index='Cliente',\n",
    "    columns='Categoria',\n",
    "    aggfunc='mean'\n",
    ").fillna(0)\n",
    "\n",
    "print(tabla_cruzada)"
   ]
  },
  {
   "cell_type": "code",
   "execution_count": 94,
   "id": "d5779535-f1a9-4b4b-98f8-0d64d1a700f9",
   "metadata": {},
   "outputs": [
    {
     "data": {
      "image/png": "[encoded data removed]",
      "text/plain": [
       "<Figure size 800x500 with 2 Axes>"
      ]
     },
     "metadata": {},
     "output_type": "display_data"
    }
   ],
   "source": [
    "plt.figure(figsize=(8, 5))\n",
    "sns.heatmap(tabla_cruzada, annot=True, cmap=\"YlGnBu\", fmt=\".2f\")\n",
    "plt.title(\"Tasa de Éxito por Cliente y Categoría\")\n",
    "plt.ylabel(\"Cliente\")\n",
    "plt.xlabel(\"Categoría\")\n",
    "plt.tight_layout()\n",
    "plt.show()"
   ]
  },
  {
   "cell_type": "code",
   "execution_count": 95,
   "id": "34ba0bf7-32c5-47d3-8f45-3a5043406fe1",
   "metadata": {},
   "outputs": [],
   "source": [
    "with pd.ExcelWriter('analisis_nvos_productos.xlsx') as writer:\n",
    "    df_margen.to_excel(writer, sheet_name='Margen_volumen', index=False)\n",
    "    df_score.to_excel(writer, sheet_name='Score', index=False)\n",
    "    df_nvo_prod.to_excel(\"clustering_nuevos_productos.xlsx\", index=False)\n",
    "    resumen.to_excel('resumen_comercial.xlsx', index=False)\n",
    "    importancia.to_excel('resumen_comercial.xlsx', index=False)\n",
    "    importancias.to_excel('resumen_comercial.xlsx', index=False)\n",
    "    tabla_cruzada.to_excel('resumen_comercial.xlsx', index=False)\n"
   ]
  },
  {
   "cell_type": "code",
   "execution_count": null,
   "id": "c5acee19-705c-4591-a185-bbb2879f9bf5",
   "metadata": {},
   "outputs": [],
   "source": []
  }
 ],
 "metadata": {
  "kernelspec": {
   "display_name": "Python 3 (ipykernel)",
   "language": "python",
   "name": "python3"
  },
  "language_info": {
   "codemirror_mode": {
    "name": "ipython",
    "version": 3
   },
   "file_extension": ".py",
   "mimetype": "text/x-python",
   "name": "python",
   "nbconvert_exporter": "python",
   "pygments_lexer": "ipython3",
   "version": "3.12.7"
  }
 },
 "nbformat": 4,
 "nbformat_minor": 5
}
